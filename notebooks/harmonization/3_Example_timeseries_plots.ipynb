{
 "cells": [
  {
   "cell_type": "markdown",
   "id": "590f482a-57cc-4591-89ca-e5aadcb2e402",
   "metadata": {},
   "source": [
    "## Before/after calibration NDVI time-series for some regions\n",
    "\n",
    "In the areas with the worst correlation between MODIS and AVHRR, plot the timeseries before and after calibration to demonstrate the improvements"
   ]
  },
  {
   "cell_type": "markdown",
   "id": "10b15fd3-d64a-46c6-a9e9-7933010f0780",
   "metadata": {},
   "source": [
    "## Libraries"
   ]
  },
  {
   "cell_type": "code",
   "execution_count": null,
   "id": "e981afa9-f54a-4b7a-be78-c87b1e679af9",
   "metadata": {},
   "outputs": [],
   "source": [
    "import xarray as xr\n",
    "import numpy as np\n",
    "import seaborn as sb\n",
    "import matplotlib.pyplot as plt\n",
    "from odc.geo.xr import assign_crs\n",
    "import contextily as ctx\n",
    "\n",
    "sys.path.append('/g/data/os22/chad_tmp/AusEFlux/src/')\n",
    "from _utils import round_coords\n",
    "\n",
    "# Using ggplot styles in this notebook\n",
    "plt.style.use('ggplot')\n",
    "\n",
    "%matplotlib inline"
   ]
  },
  {
   "cell_type": "markdown",
   "id": "378c842a-6773-44ad-9262-aa891bbe7298",
   "metadata": {},
   "source": [
    "## Analysis Parameters"
   ]
  },
  {
   "cell_type": "code",
   "execution_count": null,
   "id": "804d8c26-66d4-42dd-96a4-ded2559d2974",
   "metadata": {},
   "outputs": [],
   "source": [
    "model_var='NDVI'\n",
    "crs='epsg:4326'\n",
    "name='trees'"
   ]
  },
  {
   "cell_type": "markdown",
   "id": "389cef2b-e9ec-46eb-9c96-5c9866c80205",
   "metadata": {},
   "source": [
    "## Open data"
   ]
  },
  {
   "cell_type": "code",
   "execution_count": null,
   "id": "0f812ce5-6ddf-43ab-9255-66e0eb046244",
   "metadata": {},
   "outputs": [],
   "source": [
    "base = '/g/data/os22/chad_tmp/AusENDVI/data/'\n",
    "\n",
    "#open calibrated AVHRR\n",
    "# merge = assign_crs(xr.open_dataset(base+'NDVI_harmonization/LGBM/NDVI_CLIM_LGBM_5km_monthly_1982_2022_wGaps.nc'),\n",
    "#                    crs=crs)['NDVI']\n",
    "\n",
    "trees = xr.open_dataset(base+'NDVI_harmonization/LGBM/NDVI_trees_CLIM_LGBM_harmonize_5km_monthly_1982_2013.nc')['NDVI']\n",
    "nontrees = xr.open_dataset(base+'NDVI_harmonization/LGBM/NDVI_nontrees_CLIM_LGBM_harmonize_5km_monthly_1982_2013.nc')['NDVI']\n",
    "desert = xr.open_dataset(base+'NDVI_harmonization/LGBM/NDVI_desert_CLIM_LGBM_harmonize_5km_monthly_1982_2013.nc')['NDVI']\n",
    "merge = xr.where(np.isnan(trees), nontrees, trees)\n",
    "merge = xr.where(np.isnan(desert), merge, desert)\n",
    "merge = assign_crs(merge, crs=crs)\n",
    "merge = merge.rename('NDVI')\n",
    "\n",
    "#open original AVHRR\n",
    "avhrr = xr.open_dataset(base+model_var+'_harmonization/AVHRR_NDVI_5km_monthly_1982_2013.nc')[model_var+'_avhrr']\n",
    "avhrr = assign_crs(avhrr, crs=crs)\n",
    "\n",
    "#Open MODIS\n",
    "modis = xr.open_dataset(base+model_var+'_harmonization/MODIS_'+model_var+'_5km_monthly_200003_202212.nc')[model_var+'_median']\n",
    "modis = assign_crs(modis, crs=crs)\n",
    "\n",
    "#clip time lengths\n",
    "# merge = merge.sel(time=slice('1982','2000-02'))\n",
    "# avhrr = avhrr.sel(time=slice('1982','2000-02'))\n",
    "\n",
    "#drop 2000 where the data is bad to need to fix in ML script\n",
    "_2000 = merge.sel(time=slice('2000-03', '2001-01'))\n",
    "_2000 = _2000.where(_2000<-1, np.nan)\n",
    "times_to_drop = merge.time.sel(time=slice('2000-03', '2001-01'))\n",
    "merge = merge.drop_sel(time=times_to_drop)\n",
    "merge = xr.concat([merge, _2000], dim='time').sortby('time')\n",
    "\n",
    "_2000 = avhrr.sel(time=slice('2000-03', '2001-01'))\n",
    "_2000 = _2000.where(_2000<-1, np.nan)\n",
    "times_to_drop = avhrr.time.sel(time=slice('2000-03', '2001-01'))\n",
    "avhrr = avhrr.drop_sel(time=times_to_drop)\n",
    "avhrr = xr.concat([avhrr, _2000], dim='time').sortby('time')"
   ]
  },
  {
   "cell_type": "markdown",
   "id": "48bd742e-45b1-4877-afa6-f58b204f24f9",
   "metadata": {},
   "source": [
    "## Mask areas"
   ]
  },
  {
   "cell_type": "code",
   "execution_count": null,
   "id": "1993321f-521f-47e4-9992-7fa8a7d6aa07",
   "metadata": {},
   "outputs": [],
   "source": [
    "# define no-data areas in calibrated\n",
    "mask = ~np.isnan(merge)\n",
    "\n",
    "#mask for the trees regions\n",
    "trees = xr.open_dataset(base+'5km/WCF_5km_monthly_1982_2022.nc')['WCF']\n",
    "trees = assign_crs(trees, crs ='epsg:4326')\n",
    "trees = trees.sel(time=slice('2001', '2018'))\n",
    "trees = trees.mean('time')\n",
    "\n",
    "if name=='trees':\n",
    "    mask1 = xr.where(trees>0.25, 1, 0)\n",
    "if name=='nontrees':\n",
    "    mask1 = xr.where(trees<=0.25, 1, 0)\n",
    "\n",
    "mask = round_coords(mask)\n",
    "mask1 = round_coords(mask1)\n",
    "\n",
    "#do the masking\n",
    "avhrr = avhrr.where(mask)\n",
    "merge = merge.where(mask1)\n",
    "avhrr = avhrr.where(mask1)\n",
    "modis = modis.where(mask1)"
   ]
  },
  {
   "cell_type": "markdown",
   "id": "21c2927c-c8eb-44e0-8f16-cae1ecf0fc5d",
   "metadata": {},
   "source": [
    "## Create a plot"
   ]
  },
  {
   "cell_type": "code",
   "execution_count": null,
   "id": "483d8716-d8c0-4924-914c-9d36f86e036d",
   "metadata": {},
   "outputs": [],
   "source": [
    "# #Tassie\n",
    "# lat=slice(-39,-45) \n",
    "# lon=slice(144,149)\n",
    "# plotname = 'tassie'\n",
    "\n",
    "#queensland\n",
    "lat=slice(-10,-20) \n",
    "lon=slice(140,150)\n",
    "plotname='QLD'\n",
    "\n",
    "# #SW WA\n",
    "# lat=slice(-31,-36) \n",
    "# lon=slice(114.5,119)\n",
    "# plotname='WA'"
   ]
  },
  {
   "cell_type": "code",
   "execution_count": null,
   "id": "9a03de9a-ca59-4316-83ea-1ab1cf13e588",
   "metadata": {},
   "outputs": [],
   "source": [
    "roll=3"
   ]
  },
  {
   "cell_type": "code",
   "execution_count": null,
   "id": "fcb03505-7134-49d1-90fd-b18b5973a06c",
   "metadata": {},
   "outputs": [],
   "source": [
    "mosiac = [\n",
    "    [\"A\", \"B\", \"B\", \"C\"],\n",
    "]\n",
    "\n",
    "fig, ax = plt.subplot_mosaic(mosiac, figsize=(17,4))\n",
    "\n",
    "im = trees.where(trees>0.25).sel(longitude=lon, latitude=lat).plot(robust=True, cmap='gist_earth_r',ax=ax['A'], add_colorbar=False, add_labels=False) \n",
    "cbar = plt.colorbar(im, ax=ax['A'], shrink=0.9)\n",
    "cbar.ax.set_title('WCF', fontsize=10)\n",
    "ax['A'].set_yticklabels([])\n",
    "ax['A'].set_xticklabels([])\n",
    "ax['A'].set_ylabel('')\n",
    "ax['A'].set_xlabel('')\n",
    "ctx.add_basemap(ax['A'], source=ctx.providers.CartoDB.Voyager, crs='EPSG:4326', attribution='', attribution_size=1)\n",
    "\n",
    "\n",
    "modis.sel(longitude=lon, latitude=lat).mean(['latitude','longitude']).rolling(time=roll).mean().plot(ax=ax[\"B\"], label='MODIS', color='black')\n",
    "merge.sel(longitude=lon, latitude=lat).mean(['latitude','longitude']).rolling(time=roll).mean().plot(ax=ax[\"B\"], label='AVHRR-Adj. (GBM)', color='tab:red')\n",
    "avhrr.sel(longitude=lon, latitude=lat).mean(['latitude','longitude']).rolling(time=roll).mean().plot(ax=ax[\"B\"], label='CDR', color='tab:blue')\n",
    "\n",
    "\n",
    "ax[\"B\"].grid(True)\n",
    "ax[\"B\"].legend(fontsize=10, loc='best')\n",
    "ax[\"B\"].set_title(None)\n",
    "ax[\"B\"].set_ylabel('NDVI', fontsize=15)\n",
    "ax[\"B\"].set_xlabel(None)\n",
    "# ax[\"B\"].set_ylim(0.425, 0.775)\n",
    "ax['B'].tick_params(axis='y', labelsize=12)\n",
    "ax['B'].tick_params(axis='x', labelsize=12)\n",
    "\n",
    "modis.sel(longitude=lon, latitude=lat).rolling(time=roll).mean().sel(time=slice('2001','2013')).groupby('time.month').mean().mean(['latitude','longitude']).plot(ax=ax[\"C\"], label='MODIS', color='black')\n",
    "merge.sel(longitude=lon, latitude=lat).rolling(time=roll).mean().sel(time=slice('2001','2013')).groupby('time.month').mean().mean(['latitude','longitude']).plot(ax=ax[\"C\"], label='AVHRR-Adj. (GBM)', color='tab:red')\n",
    "avhrr.sel(longitude=lon, latitude=lat).rolling(time=roll).mean().sel(time=slice('2001','2013')).groupby('time.month').mean().mean(['latitude','longitude']).plot(ax=ax[\"C\"], label='CDR', color='tab:blue')\n",
    "\n",
    "# \n",
    "# ax[\"C\"].legend(fontsize=10)\n",
    "ax[\"C\"].set_title(None)\n",
    "ax[\"C\"].set_ylabel(None)\n",
    "ax[\"C\"].set_xlabel(None)\n",
    "# ax[\"C\"].set_ylim(0.425, 0.775)\n",
    "ax['C'].tick_params(axis='y', labelsize=12)\n",
    "ax['C'].set_yticklabels(['{:3.2f}'.format(x) for x in ax['C'].get_yticks()])\n",
    "ax[\"C\"].set_xticks(range(1,13))\n",
    "ax[\"C\"].set_xticklabels([\"J\",\"F\",\"M\",\"A\",\"M\",\"J\",\"J\",\"A\",\"S\",\"O\",\"N\",\"D\"],fontsize=12)\n",
    "\n",
    "plt.tight_layout();\n",
    "fig.savefig(\"/g/data/os22/chad_tmp/AusENDVI/results/figs/\"+plotname+\"_trees_timeseries.png\",\n",
    "            bbox_inches='tight', dpi=300);"
   ]
  },
  {
   "cell_type": "code",
   "execution_count": null,
   "id": "c122bde7-1d35-4e37-9acd-41cb04c5a3fa",
   "metadata": {},
   "outputs": [],
   "source": []
  }
 ],
 "metadata": {
  "kernelspec": {
   "display_name": "Python 3 (ipykernel)",
   "language": "python",
   "name": "python3"
  },
  "language_info": {
   "codemirror_mode": {
    "name": "ipython",
    "version": 3
   },
   "file_extension": ".py",
   "mimetype": "text/x-python",
   "name": "python",
   "nbconvert_exporter": "python",
   "pygments_lexer": "ipython3",
   "version": "3.9.2"
  }
 },
 "nbformat": 4,
 "nbformat_minor": 5
}
