{
 "cells": [
  {
   "cell_type": "markdown",
   "id": "f171bb45-0926-4e48-97dd-e403df0fccd3",
   "metadata": {},
   "source": [
    "# Interannual variability intercomparison between Landsat and MODIS\n"
   ]
  },
  {
   "cell_type": "code",
   "execution_count": null,
   "id": "b7d62418-1bae-4bf0-9318-2093e827866a",
   "metadata": {
    "tags": []
   },
   "outputs": [],
   "source": [
    "import numpy as np\n",
    "import xarray as xr\n",
    "import seaborn as sb\n",
    "import pandas as pd\n",
    "import geopandas as gpd\n",
    "import matplotlib as mpl\n",
    "from matplotlib.cm import ScalarMappable\n",
    "import contextily as ctx\n",
    "import matplotlib.pyplot as plt\n",
    "from odc.geo.xr import assign_crs\n",
    "from matplotlib.ticker import FormatStrFormatter\n",
    "\n",
    "import sys\n",
    "sys.path.append('/g/data/os22/chad_tmp/AusEFlux/src/')\n",
    "from _utils import round_coords\n",
    "\n",
    "# Using ggplot styles in this notebook\n",
    "plt.style.use('ggplot')\n",
    "\n",
    "%matplotlib inline"
   ]
  },
  {
   "cell_type": "markdown",
   "id": "389f5071-6337-4c3c-be61-b071bb1789f2",
   "metadata": {},
   "source": [
    "## Analysis Parameters"
   ]
  },
  {
   "cell_type": "code",
   "execution_count": null,
   "id": "804d8c26-66d4-42dd-96a4-ded2559d2974",
   "metadata": {},
   "outputs": [],
   "source": [
    "model_var='NDVI'\n",
    "crs='epsg:4326'\n",
    "base = '/g/data/os22/chad_tmp/AusENDVI/data/'"
   ]
  },
  {
   "cell_type": "markdown",
   "id": "307e1775-f0bc-4f67-9574-24df2f6beef3",
   "metadata": {},
   "source": [
    "## Open datasets"
   ]
  },
  {
   "cell_type": "code",
   "execution_count": null,
   "id": "c6b7fcf4-a999-44c1-a05e-6537868b93ed",
   "metadata": {},
   "outputs": [],
   "source": [
    "modis = xr.open_dataset(base+model_var+'_harmonization/MODIS_'+model_var+'_5km_monthly_200003_202212.nc')[model_var+'_median']\n",
    "modis = assign_crs(modis, crs=crs)\n",
    "modis.attrs['nodata'] = np.nan\n",
    "\n",
    "ls = xr.open_dataset(base+'/NDVI_harmonization/Landsat_NDVI_5km_monthly_1988_2012.nc')['NDVI']\n",
    "ls = assign_crs(ls, crs=crs)\n",
    "ls.attrs['nodata'] = np.nan\n",
    "\n",
    "merge = xr.open_dataset(f'{base}/NDVI_harmonization/LGBM/NDVI_CLIM_LGBM_5km_monthly_1982_2022_noGaps.nc')['NDVI']\n",
    "merge = assign_crs(merge, crs=crs)\n",
    "merge.attrs['nodata'] = np.nan\n",
    "merge = merge.rename('NDVI')\n",
    "\n",
    "rain = xr.open_dataset('/g/data/os22/chad_tmp/AusENDVI/data/5km/rain_5km_monthly_1981_2022.nc').rain\n",
    "rain = assign_crs(rain, crs=crs)\n",
    "rain.attrs['nodata'] = np.nan"
   ]
  },
  {
   "cell_type": "markdown",
   "id": "8babac35-df29-446c-b94f-8982e791b7b2",
   "metadata": {},
   "source": [
    "## Match datasets"
   ]
  },
  {
   "cell_type": "code",
   "execution_count": null,
   "id": "4ebca8a2-9ae4-443a-bcb9-9d169e6a57d1",
   "metadata": {},
   "outputs": [],
   "source": [
    "ls_trimmed = ls.sel(time=slice('2000-03', '2012'))\n",
    "modis_trimmed = modis.sel(time=slice('2000-03', '2012'))\n",
    "\n",
    "#create nodata masks\n",
    "m1 =  ~np.isnan(ls_trimmed)\n",
    "m2 =  ~np.isnan(modis_trimmed)\n",
    "\n",
    "#combine masks\n",
    "mask = (m1 & m2)\n",
    "\n",
    "ls_trimmed = ls_trimmed.where(mask)\n",
    "modis_trimmed = modis_trimmed.where(mask)"
   ]
  },
  {
   "cell_type": "markdown",
   "id": "db0117cb-3dd4-421c-8a45-bddaf464a43f",
   "metadata": {},
   "source": [
    "## Calculate standardised anomalies"
   ]
  },
  {
   "cell_type": "code",
   "execution_count": null,
   "id": "b18d1d7d-ca62-43b9-ac4f-51e1707b9e13",
   "metadata": {},
   "outputs": [],
   "source": [
    "import warnings\n",
    "warnings.simplefilter('ignore')\n",
    "\n",
    "#standardized anom\n",
    "def stand_anomalies(ds):\n",
    "    return xr.apply_ufunc(\n",
    "        lambda x, m, s: (x - m) / s,\n",
    "            ds.groupby(\"time.month\"),\n",
    "            ds.groupby(\"time.month\").mean(),\n",
    "            ds.groupby(\"time.month\").std()\n",
    "    )\n",
    "    \n",
    "ls_std_anom = stand_anomalies(ls_trimmed)\n",
    "modis_std_anom = stand_anomalies(modis_trimmed)\n",
    "rain_std_anom = stand_anomalies(rain)"
   ]
  },
  {
   "cell_type": "markdown",
   "id": "829cb264-40f8-4346-92b3-5fe7531dc75e",
   "metadata": {},
   "source": [
    "## Rolling mean anomalies"
   ]
  },
  {
   "cell_type": "code",
   "execution_count": null,
   "id": "3c838244-55f7-405d-935c-d03aad6371fb",
   "metadata": {},
   "outputs": [],
   "source": [
    "roll=12"
   ]
  },
  {
   "cell_type": "code",
   "execution_count": null,
   "id": "65b32797-f3f0-4600-90f0-177b979b3bbe",
   "metadata": {},
   "outputs": [],
   "source": [
    "rain_df = rain_std_anom.rename('rain').rolling(time=roll,\n",
    "                min_periods=roll).mean().mean(['longitude','latitude']).sel(time=slice('2000', '2013')).to_dataframe().drop(['spatial_ref', 'month'], axis=1)\n",
    "\n",
    "plt.style.use('default')\n",
    "fig, ax = plt.subplots(1,1, figsize=(14,4))\n",
    "ax2 = ax.twinx()\n",
    "\n",
    "ls_std_anom.drop('month').rolling(time=roll, min_periods=roll).mean().mean(['longitude','latitude']).plot(ax=ax, label='Landsat (DEA-NBAR)')\n",
    "modis_std_anom.drop('month').rolling(time=roll, min_periods=roll).mean().mean(['longitude','latitude']).plot(ax=ax, label='MODIS MCD43A4')\n",
    "\n",
    "norm=plt.Normalize(-2.5,2.5)\n",
    "cmap = mpl.colors.LinearSegmentedColormap.from_list(\"\", ['saddlebrown','chocolate','white','darkturquoise','darkcyan'], N=256)\n",
    "\n",
    "# Plot bars\n",
    "bar = ax2.bar(rain_df.index, 1, color=cmap(norm(rain_df['rain'])), width=32)\n",
    "sm = ScalarMappable(cmap=cmap, norm=norm)\n",
    "sm.set_array([])\n",
    "cbar = plt.colorbar(sm, ax=ax2, shrink=0.8, pad=0.01)\n",
    "cbar.set_label('Rainfall Anomaly (z-score)',labelpad=.5)\n",
    "\n",
    "ax2.set_zorder(ax.get_zorder()-1)\n",
    "ax.set_frame_on(False)\n",
    "ax.axhline(0, c='grey', linestyle='--')\n",
    "\n",
    "# Reformat y-axis label and tick labels\n",
    "ax.set_ylabel(model_var+' Anomaly (z-score)')\n",
    "ax.set_xlabel('')\n",
    "ax2.set_ylabel('')\n",
    "ax2.set_yticks([])\n",
    "ax2.set_ylim([0, 1]) \n",
    "ax.margins(x=0)\n",
    "ax2.margins(x=0)\n",
    "\n",
    "# Adjust the margins around the plot area\n",
    "plt.subplots_adjust(left=0.1, right=None, top=None, bottom=0.2, wspace=None, hspace=None)\n",
    "\n",
    "ax.legend()\n",
    "ax.set_title(None);\n",
    "fig.savefig(\"/g/data/os22/chad_tmp/AusENDVI/results/figs/MODIS_landsat_anomalies_\"+str(roll)+\"Mrollingmean.png\",\n",
    "            bbox_inches='tight', dpi=300)"
   ]
  },
  {
   "cell_type": "code",
   "execution_count": null,
   "id": "ae578d68-fba7-424e-80a7-d066d24e47e0",
   "metadata": {},
   "outputs": [],
   "source": []
  }
 ],
 "metadata": {
  "kernelspec": {
   "display_name": "Python 3 (ipykernel)",
   "language": "python",
   "name": "python3"
  },
  "language_info": {
   "codemirror_mode": {
    "name": "ipython",
    "version": 3
   },
   "file_extension": ".py",
   "mimetype": "text/x-python",
   "name": "python",
   "nbconvert_exporter": "python",
   "pygments_lexer": "ipython3",
   "version": "3.10.0"
  }
 },
 "nbformat": 4,
 "nbformat_minor": 5
}
