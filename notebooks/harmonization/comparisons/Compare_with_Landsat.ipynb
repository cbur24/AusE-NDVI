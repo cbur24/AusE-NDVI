{
 "cells": [
  {
   "cell_type": "markdown",
   "id": "f171bb45-0926-4e48-97dd-e403df0fccd3",
   "metadata": {},
   "source": [
    "# Compare the harmonized AVHRR with Landsat anomalies\n",
    "\n",
    "Using monthly median DEA Landsat 5 & 7 surface relectance NBAR, 1988-2012"
   ]
  },
  {
   "cell_type": "code",
   "execution_count": null,
   "id": "b7d62418-1bae-4bf0-9318-2093e827866a",
   "metadata": {
    "tags": []
   },
   "outputs": [],
   "source": [
    "import numpy as np\n",
    "import xarray as xr\n",
    "import seaborn as sb\n",
    "import pandas as pd\n",
    "import geopandas as gpd\n",
    "from scipy import stats\n",
    "import scipy.signal\n",
    "import xskillscore as xs\n",
    "import contextily as ctx\n",
    "import matplotlib.pyplot as plt\n",
    "import matplotlib as mpl\n",
    "from matplotlib.cm import ScalarMappable\n",
    "from odc.geo.xr import assign_crs\n",
    "from matplotlib.ticker import FormatStrFormatter\n",
    "from xarrayMannKendall import Mann_Kendall_test\n",
    "\n",
    "import sys\n",
    "sys.path.append('/g/data/os22/chad_tmp/AusEFlux/src/')\n",
    "from _utils import round_coords\n",
    "\n",
    "sys.path.append('/g/data/os22/chad_tmp/dea-notebooks/Tools/')\n",
    "from dea_tools.spatial import xr_rasterize\n",
    "from dea_tools.temporal import xr_phenology\n",
    "\n",
    "# Using ggplot styles in this notebook\n",
    "plt.style.use('ggplot')\n",
    "\n",
    "%matplotlib inline"
   ]
  },
  {
   "cell_type": "markdown",
   "id": "389f5071-6337-4c3c-be61-b071bb1789f2",
   "metadata": {},
   "source": [
    "## Analysis Parameters"
   ]
  },
  {
   "cell_type": "code",
   "execution_count": null,
   "id": "804d8c26-66d4-42dd-96a4-ded2559d2974",
   "metadata": {},
   "outputs": [],
   "source": [
    "model_var='NDVI'\n",
    "crs='epsg:4326'\n",
    "base = '/g/data/os22/chad_tmp/AusENDVI/data/'"
   ]
  },
  {
   "cell_type": "markdown",
   "id": "307e1775-f0bc-4f67-9574-24df2f6beef3",
   "metadata": {},
   "source": [
    "## Open datasets"
   ]
  },
  {
   "cell_type": "code",
   "execution_count": null,
   "id": "c6b7fcf4-a999-44c1-a05e-6537868b93ed",
   "metadata": {},
   "outputs": [],
   "source": [
    "ls = xr.open_dataset(base+'/NDVI_harmonization/Landsat_NDVI_5km_monthly_1988_2012.nc')['NDVI']\n",
    "ls = assign_crs(ls, crs=crs)\n",
    "ls.attrs['nodata'] = np.nan\n",
    "\n",
    "# trees = xr.open_dataset(f'{base}NDVI_harmonization/LGBM/NDVI_trees_CLIM_LGBM_harmonize_5km_monthly_1982_2013.nc')['NDVI']\n",
    "# nontrees = xr.open_dataset(f'{base}/NDVI_harmonization/LGBM/NDVI_nontrees_CLIM_LGBM_harmonize_5km_monthly_1982_2013.nc')['NDVI']\n",
    "# merge = xr.where(np.isnan(trees), nontrees, trees)\n",
    "# merge = assign_crs(merge, crs=crs)\n",
    "# merge.attrs['nodata'] = np.nan\n",
    "# merge = merge.rename('NDVI')\n",
    "\n",
    "# merge = xr.open_dataset(f'{base}NDVI_harmonization/LGBM/NDVI_CLIM_LGBM_5km_monthly_1982_2022_wGaps.nc')['NDVI']\n",
    "merge = xr.open_dataset(f'{base}/NDVI_harmonization/LGBM/NDVI_CLIM_LGBM_5km_monthly_1982_2022_noGaps.nc')['NDVI']\n",
    "merge = assign_crs(merge, crs=crs)\n",
    "merge.attrs['nodata'] = np.nan\n",
    "merge = merge.rename('NDVI')\n",
    "\n",
    "syn = xr.open_dataset(f'{base}/synthetic/NDVI/NDVI_CLIM_synthetic_5km_monthly_1982_2022.nc')['NDVI']\n",
    "syn = assign_crs(syn, crs=crs)\n",
    "syn.attrs['nodata'] = np.nan\n",
    "syn = syn.rename('NDVI')\n",
    "\n",
    "modis = xr.open_dataset(base+model_var+'_harmonization/MODIS_'+model_var+'_5km_monthly_200003_202212.nc')[model_var+'_median']\n",
    "modis = assign_crs(modis, crs=crs)\n",
    "modis.attrs['nodata'] = np.nan\n",
    "\n",
    "merge = merge.rename({'latitude':'y', 'longitude':'x'})\n",
    "ls = ls.rename({'latitude':'y', 'longitude':'x'})\n",
    "modis = modis.rename({'latitude':'y', 'longitude':'x'})\n",
    "syn = syn.rename({'latitude':'y', 'longitude':'x'})"
   ]
  },
  {
   "cell_type": "markdown",
   "id": "8babac35-df29-446c-b94f-8982e791b7b2",
   "metadata": {},
   "source": [
    "## Match datasets"
   ]
  },
  {
   "cell_type": "code",
   "execution_count": null,
   "id": "22784335-59ed-4525-9966-453ad8f137e6",
   "metadata": {},
   "outputs": [],
   "source": [
    "merge = merge.sel(time=ls.time)\n",
    "modis = modis.sel(time=slice('2001', '2012'))\n",
    "syn = syn.sel(time=ls.time)\n",
    "\n",
    "avhrr_mask =  ~np.isnan(merge)\n",
    "del avhrr_mask.attrs['nodata']\n",
    "avhrr_mask = assign_crs(avhrr_mask, crs=crs)\n",
    "\n",
    "ls_mask =  ~np.isnan(ls)\n",
    "del ls_mask.attrs['nodata']\n",
    "ls_mask = assign_crs(ls_mask, crs=crs)\n",
    "\n",
    "ls = ls.where(avhrr_mask)\n",
    "merge = merge.where(ls_mask)\n",
    "\n",
    "modis = modis.where(ls_mask)\n",
    "modis = modis.where(avhrr_mask)\n",
    "\n",
    "syn = syn.where(ls_mask)\n",
    "syn = syn.where(avhrr_mask)"
   ]
  },
  {
   "cell_type": "code",
   "execution_count": null,
   "id": "94ab02fb-c689-40dc-a36a-8c296f499cca",
   "metadata": {},
   "outputs": [],
   "source": [
    "# ls.sel(time='2000').plot.imshow(col='time', col_wrap=4)"
   ]
  },
  {
   "cell_type": "code",
   "execution_count": null,
   "id": "2d9d25c7-546e-4692-aabc-3831baa9b774",
   "metadata": {},
   "outputs": [],
   "source": [
    "fraction_avail_ls = (~np.isnan(ls)).sum('time')/len(ls.time)\n",
    "fraction_avail_merge = (~np.isnan(merge)).sum('time')/len(merge.time)\n",
    "\n",
    "fig,ax=plt.subplots(1,1, figsize=(5,4),sharey=True, layout='constrained')\n",
    "\n",
    "im = fraction_avail_ls.where(fraction_avail_ls>0).rename('').plot(vmin=0.1, vmax=0.95, ax=ax, cmap='magma', add_labels=False, add_colorbar=False)\n",
    "ctx.add_basemap(ax, source=ctx.providers.CartoDB.Voyager, crs='EPSG:4326', attribution='', attribution_size=1)\n",
    "\n",
    "cb = fig.colorbar(im, ax=ax, shrink=0.75, orientation='vertical', label='Fraction Available');\n",
    "ax.set_title('Mean Fraction: '+str(round(fraction_avail_ls.where(fraction_avail_ls>0).mean().values.item(), 3)));"
   ]
  },
  {
   "cell_type": "markdown",
   "id": "e3834cb4-955e-4ea3-8179-83f4abb68730",
   "metadata": {},
   "source": [
    "## Compare anomalies"
   ]
  },
  {
   "cell_type": "code",
   "execution_count": null,
   "id": "91081dc4-c8e6-428e-86cf-db0000953689",
   "metadata": {},
   "outputs": [],
   "source": [
    "import warnings\n",
    "warnings.simplefilter('ignore')\n",
    "\n",
    "#standardized anom\n",
    "def stand_anomalies(ds):\n",
    "    return xr.apply_ufunc(\n",
    "        lambda x, m, s: (x - m) / s,\n",
    "            ds.groupby(\"time.month\"),\n",
    "            ds.groupby(\"time.month\").mean(),\n",
    "            ds.groupby(\"time.month\").std()\n",
    "    )\n",
    "    \n",
    "rain_std_anom = stand_anomalies(rain)\n",
    "merge_std_anom = stand_anomalies(merge)\n",
    "ls_std_anom = stand_anomalies(ls)\n",
    "syn_std_anom = stand_anomalies(syn)"
   ]
  },
  {
   "cell_type": "code",
   "execution_count": null,
   "id": "436c0e98-589a-41ce-b39e-88488771db31",
   "metadata": {},
   "outputs": [],
   "source": [
    "roll=12"
   ]
  },
  {
   "cell_type": "code",
   "execution_count": null,
   "id": "812900d4-4b36-40ca-b3e2-079927a76f1b",
   "metadata": {},
   "outputs": [],
   "source": [
    "rain_df = rain_std_anom.rename('rain').rolling(time=roll,\n",
    "                min_periods=roll).mean().mean(['latitude','longitude']).to_dataframe().drop(['spatial_ref', 'month'], axis=1)\n",
    "\n",
    "plt.style.use('default')\n",
    "fig, ax = plt.subplots(1,1, figsize=(14,4))\n",
    "ax2 = ax.twinx()\n",
    "\n",
    "# syn_std_anom.drop('month').rolling(time=roll, min_periods=roll).mean().mean(['x','y']).plot(ax=ax, label='Synthetic')\n",
    "ls_std_anom.drop('month').rolling(time=roll, min_periods=roll).mean().mean(['x','y']).plot(ax=ax, label='Landsat')\n",
    "merge_std_anom.drop('month').rolling(time=roll, min_periods=roll).mean().mean(['x','y']).plot(ax=ax, label='AVHRR-Adj. (GBM)')\n",
    "\n",
    "norm=plt.Normalize(-2.5,2.5)\n",
    "cmap = mpl.colors.LinearSegmentedColormap.from_list(\"\", ['saddlebrown','chocolate','white','darkturquoise','darkcyan'], N=256)\n",
    "\n",
    "# Plot bars\n",
    "bar = ax2.bar(rain_df.index, 1, color=cmap(norm(rain_df['rain'])), width=32)\n",
    "sm = ScalarMappable(cmap=cmap, norm=norm)\n",
    "sm.set_array([])\n",
    "cbar = plt.colorbar(sm, shrink=0.8, pad=0.01)\n",
    "cbar.set_label('Rainfall Anomaly (z-score)',labelpad=.5)\n",
    "\n",
    "ax2.set_zorder(ax.get_zorder()-1)\n",
    "ax.set_frame_on(False)\n",
    "ax.axhline(0, c='grey', linestyle='--')\n",
    "\n",
    "# Reformat y-axis label and tick labels\n",
    "ax.set_ylabel(model_var+' Anomaly (z-score)')\n",
    "ax.set_xlabel('')\n",
    "ax2.set_ylabel('')\n",
    "ax2.set_yticks([])\n",
    "ax2.set_ylim([0, 1]) \n",
    "ax.margins(x=0)\n",
    "ax2.margins(x=0)\n",
    "\n",
    "# Adjust the margins around the plot area\n",
    "plt.subplots_adjust(left=0.1, right=None, top=None, bottom=0.2, wspace=None, hspace=None)\n",
    "\n",
    "ax.legend()\n",
    "ax.set_title('Australian standardised NDVI anomalies ('+str(roll)+'-month rolling mean)');\n",
    "fig.savefig(\"/g/data/os22/chad_tmp/AusENDVI/results/figs/NDVI_rolling_anomalies_compare_landsat_\"+str(roll)+\"Mrollingmean.png\",\n",
    "            bbox_inches='tight', dpi=300)"
   ]
  },
  {
   "cell_type": "markdown",
   "id": "84a16238-1dff-401d-84c9-b2ffb1672071",
   "metadata": {},
   "source": []
  }
 ],
 "metadata": {
  "kernelspec": {
   "display_name": "Python 3 (ipykernel)",
   "language": "python",
   "name": "python3"
  },
  "language_info": {
   "codemirror_mode": {
    "name": "ipython",
    "version": 3
   },
   "file_extension": ".py",
   "mimetype": "text/x-python",
   "name": "python",
   "nbconvert_exporter": "python",
   "pygments_lexer": "ipython3",
   "version": "3.9.2"
  }
 },
 "nbformat": 4,
 "nbformat_minor": 5
}
