{
 "cells": [
  {
   "cell_type": "markdown",
   "id": "8d6185d6-5015-4c74-a294-e3c3cea28081",
   "metadata": {},
   "source": [
    "# Show correlations between rainfall and NDVI\n",
    "\n",
    "To confirm that Australia's vegetation is typically water-limited"
   ]
  },
  {
   "cell_type": "code",
   "execution_count": null,
   "id": "be0c7445-4b35-4c1a-b586-353f4a293c32",
   "metadata": {
    "tags": []
   },
   "outputs": [],
   "source": [
    "import os\n",
    "import sys\n",
    "import warnings\n",
    "import xarray as xr\n",
    "import seaborn as sb\n",
    "import xarray as xr\n",
    "from scipy import stats\n",
    "from scipy.stats import gaussian_kde\n",
    "import xskillscore as xs\n",
    "import numpy as np\n",
    "import matplotlib.pyplot as plt\n",
    "import contextily as ctx\n",
    "import odc.geo.xr\n",
    "from odc.geo.xr import assign_crs\n",
    "\n",
    "warnings.simplefilter('ignore')\n",
    "import sys\n",
    "sys.path.append('/g/data/os22/chad_tmp/AusEFlux/src/')\n",
    "from _utils import round_coords\n",
    "\n",
    "%matplotlib inline"
   ]
  },
  {
   "cell_type": "code",
   "execution_count": null,
   "id": "506cb019-84d1-41a1-ab6e-fd607702ecad",
   "metadata": {},
   "outputs": [],
   "source": [
    "# import sys\n",
    "# sys.path.append('/g/data/os22/chad_tmp/AusEFlux/src/')\n",
    "# from _utils import start_local_dask\n",
    "\n",
    "# client = start_local_dask(mem_safety_margin='2Gb')\n",
    "# client"
   ]
  },
  {
   "cell_type": "markdown",
   "id": "9f402f2d-ab13-41f3-8442-43722664c9d5",
   "metadata": {},
   "source": [
    "## Analysis Parameters"
   ]
  },
  {
   "cell_type": "code",
   "execution_count": null,
   "id": "6a9c27f5-4dbd-40e2-904d-961b23786d23",
   "metadata": {
    "tags": []
   },
   "outputs": [],
   "source": [
    "base = '/g/data/os22/chad_tmp/AusENDVI/data/'\n",
    "ndvi_path = '/g/data/os22/chad_tmp/AusENDVI/results/publication/AusENDVI-clim_MCD43A4_gapfilled_1982_2022.nc'\n",
    "# rain_cml3_path = base+'5km/rain_cml3_5km_monthly_1982_2022.nc'\n",
    "# rain_cml6_path = base+'5km/rain_cml6_5km_monthly_1982_2022.nc'\n",
    "\n",
    "t_range='1982', '2022'\n",
    "# t_range='2000-03', '2022'\n",
    "crs='EPSG:4326'"
   ]
  },
  {
   "cell_type": "markdown",
   "id": "a36d45f1-6dd9-44b4-bb31-825db4303234",
   "metadata": {},
   "source": [
    "## Open data"
   ]
  },
  {
   "cell_type": "code",
   "execution_count": null,
   "id": "be40e6ed-4f3e-42d5-9cb5-19603fd47a12",
   "metadata": {},
   "outputs": [],
   "source": [
    "pku = xr.open_dataarray(f'{base}/NDVI_harmonization/AVHRR_GIMMS-PKU-MODIS_1982_2022.nc')\n",
    "pku = pku.rename('NDVI')\n",
    "pku = assign_crs(pku, crs=crs)\n",
    "pku.attrs['nodata'] = np.nan\n",
    "\n",
    "# pku = xr.open_dataset(base+'NDVI_harmonization/AVHRR_GIMMS3g_v1.1_1982_2013.nc')['NDVI']\n",
    "# pku = assign_crs(pku, crs='epsg:3577')\n",
    "# pku.attrs['nodata'] = np.nan\n",
    "\n",
    "#because modis is joined we can just load the final dataset and clip out 2000 onwards\n",
    "modis = assign_crs(xr.open_dataset(ndvi_path)['AusENDVI_clim_MCD43A4'], crs='EPSG:4326')\n",
    "modis = modis.sel(time=slice('2000-03', '2022'))\n",
    "modis = assign_crs(modis, crs=crs)\n",
    "modis.attrs['nodata'] = np.nan\n",
    "modis = modis.rename('NDVI')\n",
    "\n",
    "ause = assign_crs(xr.open_dataset(ndvi_path)['AusENDVI_clim_MCD43A4'], crs='EPSG:4326')\n",
    "syn = assign_crs(xr.open_dataset(base+'/synthetic/NDVI/NDVI_CLIM_synthetic_5km_monthly_1982_2022.nc')['NDVI'], crs='EPSG:4326')\n",
    "\n",
    "rain = xr.open_dataset('/g/data/os22/chad_tmp/AusENDVI/data/5km/rain_5km_monthly_1981_2022.nc').rain\n",
    "rain = rain.sel(time=slice('1982', '2022'))\n",
    "rain = assign_crs(rain, crs=crs)\n",
    "rain.attrs['nodata'] = np.nan"
   ]
  },
  {
   "cell_type": "markdown",
   "id": "803d08ec-db5c-489d-a0a4-8e7e0f7d77f9",
   "metadata": {},
   "source": [
    "## Harmonise"
   ]
  },
  {
   "cell_type": "code",
   "execution_count": null,
   "id": "1030cf56-322f-482e-bc68-8df20adf5a44",
   "metadata": {},
   "outputs": [],
   "source": [
    "ause = ause.odc.reproject(pku.odc.geobox, resampling='average')\n",
    "modis = modis.odc.reproject(pku.odc.geobox, resampling='average')\n",
    "rain = rain.odc.reproject(pku.odc.geobox, resampling='average')\n",
    "syn = syn.odc.reproject(pku.odc.geobox, resampling='average')\n",
    "\n",
    "ause = round_coords(ause)\n",
    "modis = round_coords(modis)\n",
    "pku = round_coords(pku)\n",
    "rain = round_coords(rain)\n",
    "syn = round_coords(syn)\n",
    "\n",
    "#gapfill PKU the same as our product\n",
    "obs_monthly = pku.groupby('time.month').mean()\n",
    "obs_anom = pku.groupby('time.month') - obs_monthly\n",
    "obs_anom = obs_anom.interpolate_na(dim='time', method='linear', limit=1)\n",
    "pku = obs_anom.groupby('time.month') + obs_monthly\n",
    "pku = pku.drop('month')\n",
    "pku = pku.fillna(syn)\n",
    "\n",
    "ause_mask =  ~np.isnan(ause)\n",
    "pku_mask =  ~np.isnan(pku)\n",
    "syn_mask =  ~np.isnan(syn)\n",
    "\n",
    "#combine masks\n",
    "mask = (ause_mask & pku_mask & syn_mask)\n",
    "\n",
    "pku = pku.where(mask)\n",
    "ause = ause.where(mask)\n",
    "modis = modis.where(mask.sel(time=modis.time))\n",
    "rain = rain.where(mask)"
   ]
  },
  {
   "cell_type": "markdown",
   "id": "8438ab20-86f8-44d4-84a8-e6e7fb91ca01",
   "metadata": {},
   "source": [
    "### Clip time"
   ]
  },
  {
   "cell_type": "code",
   "execution_count": null,
   "id": "037d91fb-9d4c-4257-b902-062b80d3f5e8",
   "metadata": {},
   "outputs": [],
   "source": [
    "# pku = pku.sel(time=slice(t_range[0], t_range[1]))\n",
    "\n",
    "# ause = ause.sel(time=slice(t_range[0], t_range[1]))\n",
    "\n",
    "# rain = rain.sel(time=slice(t_range[0], t_range[1]))"
   ]
  },
  {
   "cell_type": "markdown",
   "id": "80e6e846-1fc7-4e1b-be29-7deb2a8c61f2",
   "metadata": {},
   "source": [
    "## Anomalies"
   ]
  },
  {
   "cell_type": "code",
   "execution_count": null,
   "id": "a7b50a9e-b36a-47fa-b34e-55e8da901a7e",
   "metadata": {},
   "outputs": [],
   "source": [
    "#standardized anom\n",
    "def stand_anomalies(ds):\n",
    "    return xr.apply_ufunc(\n",
    "        lambda x, m, s: (x - m) / s,\n",
    "            ds.groupby(\"time.month\"),\n",
    "            ds.groupby(\"time.month\").mean(),\n",
    "            ds.groupby(\"time.month\").std()\n",
    "    )\n",
    "\n",
    "ause_anom = stand_anomalies(ause.sel(time=slice('1982','2022')))\n",
    "pku_anom = stand_anomalies(pku.sel(time=slice('1982','2022')))\n",
    "modis_anom = stand_anomalies(modis)\n",
    "rain_anom = stand_anomalies(rain.sel(time=slice('1982','2022')))\n",
    "\n",
    "#couple of pesky infs crept in\n",
    "ause_anom = ause_anom.where(~np.isinf(ause_anom))\n",
    "modis_anom = modis_anom.where(~np.isinf(modis_anom))"
   ]
  },
  {
   "cell_type": "markdown",
   "id": "2e23d422-9db1-42f4-abb3-e25f19a25e93",
   "metadata": {},
   "source": [
    "## Demonstrate water-limitation using MODIS"
   ]
  },
  {
   "cell_type": "markdown",
   "id": "5fd33991-d3a9-478d-9ac1-953002713e7d",
   "metadata": {},
   "source": [
    "### per pixel"
   ]
  },
  {
   "cell_type": "code",
   "execution_count": null,
   "id": "717bba06-1fbe-4afa-a216-bd6f2263b290",
   "metadata": {},
   "outputs": [],
   "source": [
    "rain_anom_short = stand_anomalies(rain.sel(time=slice('2000-03','2022')))\n",
    "\n",
    "corr = xr.corr(modis_anom.resample(time='1Y').mean(),\n",
    "               rain_anom_short.resample(time='1Y').mean(),\n",
    "               dim='time')\n"
   ]
  },
  {
   "cell_type": "code",
   "execution_count": null,
   "id": "f12812cc-be93-4182-802e-65cffd3d4b9c",
   "metadata": {},
   "outputs": [],
   "source": [
    "corr_data = [corr] \n",
    "\n",
    "fig,ax=plt.subplots(1,1, figsize=(5,5), sharey=True, layout='constrained')\n",
    "im = dss.plot(ax=ax, vmin=0.0, vmax=0.9, cmap='magma', add_colorbar=False, add_labels=False)\n",
    "ctx.add_basemap(ax, source=ctx.providers.CartoDB.VoyagerNoLabels, crs='EPSG:4326', attribution='', attribution_size=1)\n",
    "ax.set_title('Annual MODIS NDVI vs rainfall anomalies')\n",
    "\n",
    "cbar = fig.colorbar(im, orientation='vertical',ax=ax,cmap='magma',\n",
    "                shrink=0.6)\n",
    "cbar.ax.set_title('R', fontsize=12);\n",
    "fig.savefig(f'/g/data/os22/chad_tmp/AusENDVI/results/figs/MODIS_rainfall_correlation_perpixel.png',\n",
    "            bbox_inches='tight', dpi=300);"
   ]
  },
  {
   "cell_type": "markdown",
   "id": "b4ab6446-5ec5-4bf3-bb88-87d5e87534fd",
   "metadata": {},
   "source": [
    "## Derive NDVI-rain relationships"
   ]
  },
  {
   "cell_type": "code",
   "execution_count": null,
   "id": "3634e2e0-bf4b-4af9-ae4f-6e1484b4a645",
   "metadata": {},
   "outputs": [],
   "source": [
    "ndvi_data = [modis_anom,\n",
    "             ause_anom.sel(time=slice('1982','2000')),\n",
    "             pku_anom.sel(time=slice('1982','2000')),\n",
    "             pku_anom.sel(time=slice('2000','2022'))\n",
    "            ]\n",
    "\n",
    "rain_data = [rain_anom.sel(time=slice('2000','2022')),\n",
    "             rain_anom.sel(time=slice('1982','2000')),\n",
    "             rain_anom.sel(time=slice('1982','2000')),\n",
    "            rain_anom.sel(time=slice('2000','2022'))\n",
    "            ]\n",
    "\n",
    "names=['MODIS MCD43A4 2000-2022', 'AusENDVI-clim 1982-2000','GIMMS-PKU-consolidated 1982-2000', 'GIMMS-PKU-consolidated 2000-2022'] \n",
    "\n",
    "with plt.style.context('ggplot'):\n",
    "    fig,axes=plt.subplots(1,4, figsize=(16,4), sharey=True, layout='constrained')\n",
    "    for ax, ndvi, r, n in zip(axes.ravel(), ndvi_data, rain_data, names):\n",
    "        \n",
    "            plot_df = r.rename('rain').rolling(time=12,\n",
    "                        min_periods=12).mean().mean(['latitude','longitude']).to_dataframe().drop(['spatial_ref', 'month'], axis=1)\n",
    "            # plot_df = plot_df.shift(6)\n",
    "            \n",
    "            plot_df['ndvi'] = ndvi.rolling(time=12,\n",
    "                        min_periods=12).mean().mean(['latitude','longitude']).to_dataframe(name='ndvi').drop(['spatial_ref', 'month'], axis=1)\n",
    "\n",
    "            # plot_df = r.rename('rain').mean(['latitude','longitude']).rolling(time=12,\n",
    "            #             min_periods=12).mean().to_dataframe().drop(['spatial_ref', 'month'], axis=1)\n",
    "            # # plot_df = plot_df.shift(6)\n",
    "            \n",
    "            # plot_df['ndvi'] = ndvi.mean(['latitude','longitude']).rolling(time=12,\n",
    "            #             min_periods=12).mean().to_dataframe(name='ndvi').drop(['spatial_ref', 'month'], axis=1)\n",
    "            \n",
    "            plot_df=plot_df.dropna()\n",
    "            \n",
    "            obs, pred = plot_df['rain'].values, plot_df['ndvi'].values\n",
    "        \n",
    "            s, i, r_value, p_value, std_err = stats.linregress(obs,pred)\n",
    "            r2 = r_value**2\n",
    "            sb.scatterplot(data=plot_df, x='rain',y='ndvi', alpha=1.0, ax=ax, cmap='magma')\n",
    "            sb.regplot(data=plot_df, x='rain',y='ndvi', scatter=False, color='blue', ax=ax)\n",
    "            # sb.regplot(data=plot_df, x='rain',y='rain', color='black', scatter=False, line_kws={'linestyle':'dashed'}, ax=ax)\n",
    "        #\n",
    "            if i<0:\n",
    "                ax.text(.05, .9, f'y={s:.2f}x{i:.3f}',\n",
    "                    transform=ax.transAxes, fontsize=13)\n",
    "            else:\n",
    "                ax.text(.05, .9, f'y={s:.2f}x+{i:.3f}',\n",
    "                    transform=ax.transAxes, fontsize=13)\n",
    "            ax.text(.05, .825, 'r\\N{SUPERSCRIPT TWO}={:.2f}'.format(r2),\n",
    "                    transform=ax.transAxes, fontsize=13)\n",
    "        \n",
    "            ax.set_ylabel('12-month rolling mean NDVI anomaly')\n",
    "            ax.set_xlabel('12-month rolling rainfall anomaly')\n",
    "            ax.set_title(n, fontsize=12)\n",
    "\n",
    "fig.savefig(f'/g/data/os22/chad_tmp/AusENDVI/results/figs/rainfall_ndvi_relationships.png',\n",
    "            bbox_inches='tight', dpi=300);"
   ]
  },
  {
   "cell_type": "code",
   "execution_count": null,
   "id": "3e6b1950-7555-423b-af5d-8ba2e9880998",
   "metadata": {},
   "outputs": [],
   "source": []
  },
  {
   "cell_type": "code",
   "execution_count": null,
   "id": "58c7adea-ca7f-4acf-a9f4-c242fce893ca",
   "metadata": {},
   "outputs": [],
   "source": []
  },
  {
   "cell_type": "code",
   "execution_count": null,
   "id": "fc890924-49b9-40c0-a24e-7b4b05f43c5e",
   "metadata": {},
   "outputs": [],
   "source": []
  }
 ],
 "metadata": {
  "kernelspec": {
   "display_name": "Python 3 (ipykernel)",
   "language": "python",
   "name": "python3"
  },
  "language_info": {
   "codemirror_mode": {
    "name": "ipython",
    "version": 3
   },
   "file_extension": ".py",
   "mimetype": "text/x-python",
   "name": "python",
   "nbconvert_exporter": "python",
   "pygments_lexer": "ipython3",
   "version": "3.10.0"
  }
 },
 "nbformat": 4,
 "nbformat_minor": 5
}
