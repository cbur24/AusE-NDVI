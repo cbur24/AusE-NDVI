{
 "cells": [
  {
   "cell_type": "markdown",
   "id": "f171bb45-0926-4e48-97dd-e403df0fccd3",
   "metadata": {},
   "source": [
    "# Create publication ready datasets\n",
    "\n",
    "Four datasets to publish:\n",
    "1. AusENDVI-clim 1982-2013 gap-filled (including 'QC' layer)\n",
    "2. Joined AusENDVI-clim with MODIS 1982-2022 gap-filled (including 'QC' layer)\n",
    "3. AusENDVI-noclim 1982-2013\n",
    "4. Synthetic NDVI 1982-2022\n"
   ]
  },
  {
   "cell_type": "code",
   "execution_count": null,
   "id": "b7d62418-1bae-4bf0-9318-2093e827866a",
   "metadata": {
    "tags": []
   },
   "outputs": [],
   "source": [
    "import numpy as np\n",
    "import xarray as xr\n",
    "from odc.geo.xr import assign_crs\n",
    "\n",
    "%matplotlib inline"
   ]
  },
  {
   "cell_type": "code",
   "execution_count": null,
   "id": "ce71b2e5-30bb-47c8-87c4-45f579b5ef76",
   "metadata": {},
   "outputs": [],
   "source": [
    "base = '/g/data/os22/chad_tmp/AusENDVI/data/'\n",
    "crs='EPSG:4326'\n",
    "version = '0.2.0'"
   ]
  },
  {
   "cell_type": "markdown",
   "id": "3e66096e-11d9-4472-bcc7-60f4c6c98f22",
   "metadata": {},
   "source": [
    "## AusENDVI-clim merged with MODIS-MCD43A4 & gapfilled"
   ]
  },
  {
   "cell_type": "code",
   "execution_count": null,
   "id": "3822e207-efd6-4541-9b6b-82e819e14a7e",
   "metadata": {},
   "outputs": [],
   "source": [
    "clim_nogaps = xr.open_dataset(f'{base}/NDVI_harmonization/LGBM/NDVI_CLIM_LGBM_5km_monthly_1982_2022_noGaps.nc')['NDVI']\n",
    "clim_nogaps = clim_nogaps.where(clim_nogaps>=0) #ensure values are 0-1\n",
    "clim_nogaps = assign_crs(clim_nogaps, crs=crs)\n",
    "clim_nogaps = clim_nogaps.rename('AusENDVI_clim_MCD43A4')\n",
    "clim_nogaps.attrs['nodata'] = np.nan\n",
    "clim_nogaps.attrs['crs'] = crs\n",
    "clim_nogaps.attrs['units'] = 'unitless'\n",
    "clim_nogaps.attrs['long_name'] = 'AusENDVI_clim merged with MODIS-MCD43A4 NDVI'\n",
    "\n",
    "#create a QC layer by using the 'gappy' dataset to identify where data was gapfilled.\n",
    "qc = xr.open_dataset(f'{base}/NDVI_harmonization/LGBM/NDVI_CLIM_LGBM_5km_monthly_1982_2022_wGaps.nc')['NDVI']\n",
    "qc = assign_crs(qc, crs=crs)\n",
    "qc = qc.rename('QC').to_dataset()\n",
    "qc.attrs['nodata'] = np.nan\n",
    "qc.attrs['crs'] = crs\n",
    "qc = np.isnan(qc.QC)\n",
    "sea_mask = np.isnan(clim_nogaps.mean('time'))\n",
    "qc = xr.where(sea_mask==1, 2, qc)\n",
    "qc = qc.astype(np.int8)\n",
    "qc.attrs['crs'] = crs\n",
    "qc.attrs['nodata'] = 2\n",
    "qc.attrs['description'] = \"The data values in this QC layer have three values: 0, 1, & 2.  A value of 0 describes good observation data preserved from the original Climate Data Record AVHRR NDVI product after QA filtering and the extended filtering/removal of data that is described in this dataset's publication. A value of 1 indicates data that is gap-filled using either synthetic NDVI data or values attained through linear temporal interpolation. A value of 2 indicates pixels where there is no-data in the entire archive, effectively this is a land-sea mask\"\n",
    "qc.attrs['units'] = 'N/A'\n",
    "qc.attrs['long_name'] = 'Quality Control'\n",
    "\n",
    "# add QC layert to the clim dataset\n",
    "clim_nogaps = clim_nogaps.to_dataset()\n",
    "clim_nogaps['QC'] = qc.transpose('time','latitude', 'longitude')\n",
    "clim_nogaps['AusENDVI_clim_MCD43A4'].attrs['description'] = \"This dataset consists of calibrated and harmonised (to MODIS-MCD43A4 NDVI) Climate Data Record AVHRR NDVI data from Jan. 1982 to Feb. 2000, and MODIS-MCD43A4 NDVI data from Mar. 2000 to Dec. 2022. This version of the dataset used climate data in the calibration and harmonisation process. The dataset has been gap filled with synthetic NDVI data. Timesteps represent monthly median composites.\"\n",
    "\n",
    "#add some metadata to dataset.\n",
    "clim_nogaps.attrs['crs'] = crs\n",
    "clim_nogaps.attrs['description'] = \"See the 'description' attributes on the individual layers of this netcdf file for a full description of each layer.\"\n",
    "\n",
    "#export\n",
    "clim_nogaps.to_netcdf(f'/g/data/os22/chad_tmp/AusENDVI/results/publication/AusENDVI-clim_MCD43A4_gapfilled_1982_2022_{version}.nc')\n",
    "clim_nogaps"
   ]
  },
  {
   "cell_type": "markdown",
   "id": "485ad08d-b8d3-413b-9227-57bf0bc1e76a",
   "metadata": {},
   "source": [
    "## AusENDVI Synthetic"
   ]
  },
  {
   "cell_type": "code",
   "execution_count": null,
   "id": "de530c21-002c-499e-82bf-d49638facaf8",
   "metadata": {},
   "outputs": [],
   "source": [
    "syn = xr.open_dataset(f'{base}/synthetic/NDVI/NDVI_CLIM_synthetic_5km_monthly_1982_2022.nc')['NDVI']\n",
    "syn = syn.where(syn>=0) #ensure values are 0-1\n",
    "syn = assign_crs(syn, crs=crs)\n",
    "syn.attrs['nodata'] = np.nan\n",
    "syn.attrs['crs'] = crs\n",
    "syn.attrs['description'] = \"This dataset consists of synthetic NDVI data that was built by training a model on the joined AusENDVI-clim and MODIS-MCD43A4 NDVI timeseries using climate, woody-cover-fraction, and atmospheric CO2 as predictors. The dataset extends from Jan. 1982 to Dec. 2022 with a monthly time-step.\"\n",
    "# del syn.attrs['grid_mapping']\n",
    "attrs = syn.attrs\n",
    "syn = syn.rename('AusENDVI_synthetic').to_dataset()\n",
    "syn.attrs = attrs\n",
    "syn.attrs['units'] = 'unitless'\n",
    "syn.attrs['long_name'] =  'AusENDVI Synthetic NDVI'\n",
    "\n",
    "syn.to_netcdf(f'/g/data/os22/chad_tmp/AusENDVI/results/publication/AusENDVI_synthetic_1982_2022_{version}.nc')"
   ]
  },
  {
   "cell_type": "markdown",
   "id": "76505acc-391d-48e9-89a6-a988e17f7620",
   "metadata": {},
   "source": [
    "## AusENDVI-clim, gap filled"
   ]
  },
  {
   "cell_type": "code",
   "execution_count": null,
   "id": "4a3c5344-957e-4fb0-94f7-a51be081b9f5",
   "metadata": {},
   "outputs": [],
   "source": [
    "#merge regions together\n",
    "trees_clim = xr.open_dataset(f'{base}NDVI_harmonization/LGBM/NDVI_trees_CLIM_LGBM_harmonize_5km_monthly_1982_2013.nc')['NDVI']\n",
    "nontrees_clim = xr.open_dataset(f'{base}/NDVI_harmonization/LGBM/NDVI_nontrees_CLIM_LGBM_harmonize_5km_monthly_1982_2013.nc')['NDVI']\n",
    "desert_clim = xr.open_dataset(f'{base}/NDVI_harmonization/LGBM/NDVI_desert_CLIM_LGBM_harmonize_5km_monthly_1982_2013.nc')['NDVI']\n",
    "merge_clim = xr.where(np.isnan(trees_clim), nontrees_clim, trees_clim)\n",
    "merge_clim = xr.where(np.isnan(desert_clim), merge_clim, desert_clim)\n",
    "merge_clim = merge_clim.where(merge_clim>=0) #ensure values are 0-1\n",
    "\n",
    "# -----gapfill-----\n",
    "# seperate into climatologies and anomalies\n",
    "climatology = merge_clim.groupby('time.month').mean()\n",
    "anomaly = merge_clim.groupby('time.month') - climatology  \n",
    "\n",
    "# fill anomalies linearly by one-step\n",
    "anomaly = anomaly.interpolate_na(dim='time', method='linear', limit=1)\n",
    "\n",
    "# recombine anomalies and climatology\n",
    "fill = anomaly.groupby('time.month') + climatology\n",
    "fill = fill.drop_vars('month')\n",
    "fill = fill.where(fill>=0) #ensure values are still 0-1 after interp\n",
    "\n",
    "# gapfill with synthetic\n",
    "merge_clim = fill.fillna(syn['AusENDVI_synthetic'].sel(time=fill.time))\n",
    "\n",
    "# add attributes\n",
    "merge_clim.attrs['nodata'] = np.nan\n",
    "merge_clim.attrs['crs'] = crs\n",
    "merge_clim.attrs['description'] = \"This dataset consists of calibrated and harmonised (to MODIS-MCD43A4 NDVI) Climate Data Record AVHRR NDVI data from Jan. 1982 to Dec. 2013. This version of the dataset used climate data in the calibration and harmonisation process. The dataset has been gap filled with synthetic NDVI data. Timesteps represent monthly median composites.\"\n",
    "merge_clim.attrs['units'] = 'unitless'\n",
    "merge_clim.attrs['long_name'] = 'AusENDVI_clim'\n",
    "\n",
    "attrs = merge_clim.attrs\n",
    "merge_clim = merge_clim.rename('AusENDVI_clim').to_dataset()\n",
    "merge_clim.attrs = attrs\n",
    "\n",
    "#add QC layer.\n",
    "merge_clim['QC'] = qc.transpose('time','latitude', 'longitude')\n",
    "\n",
    "#export\n",
    "merge_clim.to_netcdf(f'/g/data/os22/chad_tmp/AusENDVI/results/publication/AusENDVI-clim_gapfilled_1982_2013_{version}.nc')\n",
    "merge_clim"
   ]
  },
  {
   "cell_type": "code",
   "execution_count": null,
   "id": "d099814c-dce9-4f3f-8d3a-17ca3c45113d",
   "metadata": {},
   "outputs": [],
   "source": [
    "import matplotlib.pyplot as plt\n",
    "fig,ax = plt.subplots(1,1, figsize=(13,4), sharey=True)\n",
    "clim_nogaps['AusENDVI_clim_MCD43A4'].mean(['latitude','longitude']).plot(ax=ax, label='AusENDVI_clim_MCD43A4')\n",
    "merge_clim['AusENDVI_clim'].mean(['latitude','longitude']).plot(ax=ax, label='AusENDVI_clim')\n",
    "ax.legend()"
   ]
  },
  {
   "cell_type": "markdown",
   "id": "7fff2b00-f22a-44c0-9a33-f70ec4a80eb6",
   "metadata": {},
   "source": [
    "## AusENDVI-noclim"
   ]
  },
  {
   "cell_type": "code",
   "execution_count": null,
   "id": "b6757d67-770f-46c3-bfe5-3d145ffe6ba2",
   "metadata": {},
   "outputs": [],
   "source": [
    "trees_noclim = xr.open_dataset(f'{base}NDVI_harmonization/LGBM/NDVI_trees_NOCLIM_LGBM_harmonize_5km_monthly_1982_2013.nc')['NDVI']\n",
    "nontrees_noclim = xr.open_dataset(f'{base}/NDVI_harmonization/LGBM/NDVI_nontrees_NOCLIM_LGBM_harmonize_5km_monthly_1982_2013.nc')['NDVI']\n",
    "desert_noclim = xr.open_dataset(f'{base}/NDVI_harmonization/LGBM/NDVI_desert_NOCLIM_LGBM_harmonize_5km_monthly_1982_2013.nc')['NDVI']\n",
    "merge_noclim = xr.where(np.isnan(trees_noclim), nontrees_noclim, trees_noclim)\n",
    "merge_noclim = xr.where(np.isnan(desert_noclim), merge_noclim, desert_noclim)\n",
    "merge_noclim = merge_noclim.where(merge_noclim>=0) #ensure values are 0-1\n",
    "\n",
    "merge_noclim.attrs['nodata'] = np.nan\n",
    "merge_noclim.attrs['crs'] = crs\n",
    "merge_noclim.attrs['description'] = \"This dataset consists of calibrated and harmonised (to MODIS-MCD43A4 NDVI) Climate Data Record AVHRR NDVI data from Jan. 1982 to Dec. 2013. This version of the dataset did not use climate data in the calibration and harmonisation process. The dataset has not been gap filled, and extra data has been filtered/removed beyond the typical QA filtering using methods described in the publication. Timesteps represent monthly median composites.\"\n",
    "merge_clim.attrs['units'] = 'unitless'\n",
    "merge_clim.attrs['long_name'] = 'AusENDVI_noclim'\n",
    "\n",
    "attrs = merge_noclim.attrs\n",
    "merge_noclim = merge_noclim.rename('AusENDVI_noclim').to_dataset()\n",
    "merge_noclim.attrs = attrs\n",
    "\n",
    "merge_noclim.to_netcdf(f'/g/data/os22/chad_tmp/AusENDVI/results/publication/AusENDVI-noclim_1982_2013_{version}.nc')"
   ]
  },
  {
   "cell_type": "markdown",
   "id": "44ce0b48-91d8-4008-9553-e34fc53ebba7",
   "metadata": {},
   "source": [
    "## AusENDVI-noclim merged with MODIS-MCD43A4"
   ]
  },
  {
   "cell_type": "code",
   "execution_count": null,
   "id": "020d7f08-64f9-4237-8444-2d567c4f9072",
   "metadata": {},
   "outputs": [],
   "source": [
    "# noclim_gaps = xr.open_dataset(f'{base}/NDVI_harmonization/LGBM/NDVI_NOCLIM_LGBM_5km_monthly_1982_2022_wGaps.nc')['NDVI']\n",
    "# noclim_gaps = noclim_gaps.where(noclim_gaps>=0) #ensure values are 0-1\n",
    "# noclim_gaps = assign_crs(noclim_gaps, crs=crs)\n",
    "# noclim_gaps = noclim_gaps.rename('AusENDVI_noclim_MCD43A4')\n",
    "# noclim_gaps.attrs['nodata'] = np.nan\n",
    "# noclim_gaps.attrs['crs'] = crs\n",
    "# noclim_gaps.attrs['description'] = \"This dataset consists of calibrated and harmonised (to MODIS-MCD43A4 NDVI) Climate Data Record AVHRR NDVI data from Jan. 1982 to Feb. 2000, and MODIS-MCD43A4 NDVI data from Mar. 2000 to Dec. 2022. This version of the dataset did not use climate data in the calibration and harmonisation process. The dataset has not been gap filled. Timesteps represent monthly median composites.\"\n",
    "# noclim_gaps.attrs['units'] = 'unitless'\n",
    "# noclim_gaps.attrs['long_name'] =  'AusENDVI_noclim merged with MODIS-MCD43A4 NDVI'\n",
    "\n",
    "# attrs = noclim_gaps.attrs\n",
    "# noclim_gaps = noclim_gaps.to_dataset()\n",
    "# noclim_gaps.attrs = attrs\n",
    "\n",
    "# noclim_gaps.to_netcdf('/g/data/os22/chad_tmp/AusENDVI/results/publication/AusENDVI-noclim_MCD43A4_1982_2022.nc')"
   ]
  },
  {
   "cell_type": "code",
   "execution_count": null,
   "id": "0632aaf0-29fe-4baf-bfc2-41723a71b014",
   "metadata": {},
   "outputs": [],
   "source": []
  }
 ],
 "metadata": {
  "kernelspec": {
   "display_name": "Python 3 (ipykernel)",
   "language": "python",
   "name": "python3"
  },
  "language_info": {
   "codemirror_mode": {
    "name": "ipython",
    "version": 3
   },
   "file_extension": ".py",
   "mimetype": "text/x-python",
   "name": "python",
   "nbconvert_exporter": "python",
   "pygments_lexer": "ipython3",
   "version": "3.10.0"
  }
 },
 "nbformat": 4,
 "nbformat_minor": 5
}
