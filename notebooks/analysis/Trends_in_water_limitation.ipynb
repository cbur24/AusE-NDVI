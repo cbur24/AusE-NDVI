{
 "cells": [
  {
   "cell_type": "markdown",
   "id": "8d6185d6-5015-4c74-a294-e3c3cea28081",
   "metadata": {},
   "source": [
    "# Trends in water limitation\n",
    "\n",
    "Testing [Ukkola et al. 2016](https://www.nature.com/articles/nclimate2831) to see if using AusE-NDVI instead of GIMMS3g produces similar results."
   ]
  },
  {
   "cell_type": "code",
   "execution_count": 3,
   "id": "be0c7445-4b35-4c1a-b586-353f4a293c32",
   "metadata": {
    "tags": []
   },
   "outputs": [],
   "source": [
    "import os\n",
    "import sys\n",
    "import warnings\n",
    "import xarray as xr\n",
    "import pandas as pd\n",
    "import seaborn as sb\n",
    "import xarray as xr\n",
    "from scipy import stats\n",
    "import numpy as np\n",
    "import scipy.signal\n",
    "from scipy.stats import gaussian_kde\n",
    "import contextily as ctx\n",
    "import matplotlib.pyplot as plt\n",
    "import odc.geo.xr\n",
    "from odc.geo.xr import assign_crs\n",
    "\n",
    "warnings.simplefilter('ignore')\n",
    "\n",
    "sys.path.append('/g/data/os22/chad_tmp/AusEFlux/src/')\n",
    "from _utils import round_coords"
   ]
  },
  {
   "cell_type": "markdown",
   "id": "9f402f2d-ab13-41f3-8442-43722664c9d5",
   "metadata": {},
   "source": [
    "## Analysis Parameters\n",
    "\n",
    "Start with 5km resolution datasets to speed up exploration"
   ]
  },
  {
   "cell_type": "code",
   "execution_count": 4,
   "id": "6a9c27f5-4dbd-40e2-904d-961b23786d23",
   "metadata": {
    "tags": []
   },
   "outputs": [],
   "source": [
    "rain_path = '/g/data/os22/chad_tmp/AusENDVI/data/5km/rain_5km_monthly_1981_2022.nc'\n",
    "ndvi_path = '/g/data/os22/chad_tmp/AusENDVI/data/NDVI_harmonization/LGBM/NDVI_CLIM_LGBM_5km_monthly_1982_2022_noGaps.nc'\n",
    "chunks=None#dict(latitude=1000, longitude=1000, time=-1)\n",
    "\n",
    "t_range='1982', '2022'"
   ]
  },
  {
   "cell_type": "markdown",
   "id": "59269734-13d5-4df8-900e-2b3acfd40b3f",
   "metadata": {},
   "source": [
    "## Open data"
   ]
  },
  {
   "cell_type": "code",
   "execution_count": 6,
   "id": "06e34aef-8a09-4d67-8837-e81e300a19f9",
   "metadata": {
    "tags": []
   },
   "outputs": [],
   "source": [
    "# ndvi = assign_crs(xr.open_dataset(ndvi_path)['NDVI'], crs='EPSG:4326')\n",
    "# ndvi = ndvi.sel(time=slice(t_range[0], t_range[1]))\n",
    "\n",
    "base = '/g/data/os22/chad_tmp/AusENDVI/data/'\n",
    "ndvi = xr.open_dataset(base+'NDVI_harmonization/AVHRR_GIMMS-PKU-MODIS_1982_2022.nc').rename({'__xarray_dataarray_variable__':'NDVI'})['NDVI']\n",
    "# ndvi = assign_crs(ndvi, crs=crs)\n",
    "ndvi.attrs['nodata'] = np.nan\n",
    "\n",
    "rain = assign_crs(xr.open_dataset(rain_path)['rain'], crs='EPSG:4326')\n",
    "rain = rain.sel(time=slice(t_range[0], t_range[1]))"
   ]
  },
  {
   "cell_type": "markdown",
   "id": "db3b5446-9a85-475b-9f23-7bf2f3616e6a",
   "metadata": {},
   "source": [
    "### Mask cropping and heavily wooded regions"
   ]
  },
  {
   "cell_type": "code",
   "execution_count": 7,
   "id": "081692cc-9617-4447-b20d-4d9a0f0d890f",
   "metadata": {},
   "outputs": [],
   "source": [
    "ag = assign_crs(xr.open_dataarray('/g/data/os22/chad_tmp/NEE_modelling/data/1km/Landcover_1km_monthly_2002_2021.nc').isel(time=0),\n",
    "                crs='epsg:4326')\n",
    "ag = xr.where(ag==40,1,0)\n",
    "ag = ag.odc.reproject(ndvi.odc.geobox, resampling='mode')\n",
    "ag = round_coords(ag)\n",
    "ag = ~ag.astype(bool)\n",
    "\n",
    "#Woody cover fraction mask\n",
    "trees = xr.open_dataset('/g/data/os22/chad_tmp/AusENDVI/data/5km/WCF_5km_monthly_1982_2022.nc')['WCF']\n",
    "trees = assign_crs(trees, crs ='epsg:4326')\n",
    "trees = trees.sel(time=slice('2001', '2018'))\n",
    "trees = trees.mean('time')\n",
    "\n",
    "trees_mask = xr.where(trees>0.25, 1, 0)\n",
    "non_trees_mask = xr.where(trees<=0.25, 1, 0)"
   ]
  },
  {
   "cell_type": "code",
   "execution_count": 8,
   "id": "d3c6b511-3112-4740-8c71-fa492a60f388",
   "metadata": {},
   "outputs": [
    {
     "ename": "ValueError",
     "evalue": "size of dimension 'time' on inputs was unexpectedly changed by applied function from 492 to 1. Only dimensions specified in ``exclude_dims`` with xarray.apply_ufunc are allowed to change size. The data returned was:\n\narray([], shape=(1, 114, 0), dtype=float32)",
     "output_type": "error",
     "traceback": [
      "\u001b[0;31m---------------------------------------------------------------------------\u001b[0m",
      "\u001b[0;31mValueError\u001b[0m                                Traceback (most recent call last)",
      "Cell \u001b[0;32mIn[8], line 1\u001b[0m\n\u001b[0;32m----> 1\u001b[0m ndvi \u001b[38;5;241m=\u001b[39m \u001b[43mndvi\u001b[49m\u001b[38;5;241;43m.\u001b[39;49m\u001b[43mwhere\u001b[49m\u001b[43m(\u001b[49m\u001b[43mag\u001b[49m\u001b[43m)\u001b[49m\n\u001b[1;32m      2\u001b[0m rain \u001b[38;5;241m=\u001b[39m rain\u001b[38;5;241m.\u001b[39mwhere(rain)\n\u001b[1;32m      4\u001b[0m ndvi\u001b[38;5;241m=\u001b[39m ndvi\u001b[38;5;241m.\u001b[39mwhere(non_trees_mask)\n",
      "File \u001b[0;32m/g/data/os22/chad_tmp/AusENDVI/env/py310/lib/python3.10/site-packages/xarray/core/common.py:1250\u001b[0m, in \u001b[0;36mDataWithCoords.where\u001b[0;34m(self, cond, other, drop)\u001b[0m\n\u001b[1;32m   1247\u001b[0m     \u001b[38;5;28mself\u001b[39m \u001b[38;5;241m=\u001b[39m \u001b[38;5;28mself\u001b[39m\u001b[38;5;241m.\u001b[39misel(\u001b[38;5;241m*\u001b[39m\u001b[38;5;241m*\u001b[39mindexers)\n\u001b[1;32m   1248\u001b[0m     cond \u001b[38;5;241m=\u001b[39m cond\u001b[38;5;241m.\u001b[39misel(\u001b[38;5;241m*\u001b[39m\u001b[38;5;241m*\u001b[39mindexers)\n\u001b[0;32m-> 1250\u001b[0m \u001b[38;5;28;01mreturn\u001b[39;00m \u001b[43mops\u001b[49m\u001b[38;5;241;43m.\u001b[39;49m\u001b[43mwhere_method\u001b[49m\u001b[43m(\u001b[49m\u001b[38;5;28;43mself\u001b[39;49m\u001b[43m,\u001b[49m\u001b[43m \u001b[49m\u001b[43mcond\u001b[49m\u001b[43m,\u001b[49m\u001b[43m \u001b[49m\u001b[43mother\u001b[49m\u001b[43m)\u001b[49m\n",
      "File \u001b[0;32m/g/data/os22/chad_tmp/AusENDVI/env/py310/lib/python3.10/site-packages/xarray/core/ops.py:179\u001b[0m, in \u001b[0;36mwhere_method\u001b[0;34m(self, cond, other)\u001b[0m\n\u001b[1;32m    177\u001b[0m \u001b[38;5;66;03m# alignment for three arguments is complicated, so don't support it yet\u001b[39;00m\n\u001b[1;32m    178\u001b[0m join \u001b[38;5;241m=\u001b[39m \u001b[38;5;124m\"\u001b[39m\u001b[38;5;124minner\u001b[39m\u001b[38;5;124m\"\u001b[39m \u001b[38;5;28;01mif\u001b[39;00m other \u001b[38;5;129;01mis\u001b[39;00m dtypes\u001b[38;5;241m.\u001b[39mNA \u001b[38;5;28;01melse\u001b[39;00m \u001b[38;5;124m\"\u001b[39m\u001b[38;5;124mexact\u001b[39m\u001b[38;5;124m\"\u001b[39m\n\u001b[0;32m--> 179\u001b[0m \u001b[38;5;28;01mreturn\u001b[39;00m \u001b[43mapply_ufunc\u001b[49m\u001b[43m(\u001b[49m\n\u001b[1;32m    180\u001b[0m \u001b[43m    \u001b[49m\u001b[43mduck_array_ops\u001b[49m\u001b[38;5;241;43m.\u001b[39;49m\u001b[43mwhere_method\u001b[49m\u001b[43m,\u001b[49m\n\u001b[1;32m    181\u001b[0m \u001b[43m    \u001b[49m\u001b[38;5;28;43mself\u001b[39;49m\u001b[43m,\u001b[49m\n\u001b[1;32m    182\u001b[0m \u001b[43m    \u001b[49m\u001b[43mcond\u001b[49m\u001b[43m,\u001b[49m\n\u001b[1;32m    183\u001b[0m \u001b[43m    \u001b[49m\u001b[43mother\u001b[49m\u001b[43m,\u001b[49m\n\u001b[1;32m    184\u001b[0m \u001b[43m    \u001b[49m\u001b[43mjoin\u001b[49m\u001b[38;5;241;43m=\u001b[39;49m\u001b[43mjoin\u001b[49m\u001b[43m,\u001b[49m\n\u001b[1;32m    185\u001b[0m \u001b[43m    \u001b[49m\u001b[43mdataset_join\u001b[49m\u001b[38;5;241;43m=\u001b[39;49m\u001b[43mjoin\u001b[49m\u001b[43m,\u001b[49m\n\u001b[1;32m    186\u001b[0m \u001b[43m    \u001b[49m\u001b[43mdask\u001b[49m\u001b[38;5;241;43m=\u001b[39;49m\u001b[38;5;124;43m\"\u001b[39;49m\u001b[38;5;124;43mallowed\u001b[39;49m\u001b[38;5;124;43m\"\u001b[39;49m\u001b[43m,\u001b[49m\n\u001b[1;32m    187\u001b[0m \u001b[43m    \u001b[49m\u001b[43mkeep_attrs\u001b[49m\u001b[38;5;241;43m=\u001b[39;49m\u001b[38;5;28;43;01mTrue\u001b[39;49;00m\u001b[43m,\u001b[49m\n\u001b[1;32m    188\u001b[0m \u001b[43m\u001b[49m\u001b[43m)\u001b[49m\n",
      "File \u001b[0;32m/g/data/os22/chad_tmp/AusENDVI/env/py310/lib/python3.10/site-packages/xarray/core/computation.py:1270\u001b[0m, in \u001b[0;36mapply_ufunc\u001b[0;34m(func, input_core_dims, output_core_dims, exclude_dims, vectorize, join, dataset_join, dataset_fill_value, keep_attrs, kwargs, dask, output_dtypes, output_sizes, meta, dask_gufunc_kwargs, on_missing_core_dim, *args)\u001b[0m\n\u001b[1;32m   1268\u001b[0m \u001b[38;5;66;03m# feed DataArray apply_variable_ufunc through apply_dataarray_vfunc\u001b[39;00m\n\u001b[1;32m   1269\u001b[0m \u001b[38;5;28;01melif\u001b[39;00m \u001b[38;5;28many\u001b[39m(\u001b[38;5;28misinstance\u001b[39m(a, DataArray) \u001b[38;5;28;01mfor\u001b[39;00m a \u001b[38;5;129;01min\u001b[39;00m args):\n\u001b[0;32m-> 1270\u001b[0m     \u001b[38;5;28;01mreturn\u001b[39;00m \u001b[43mapply_dataarray_vfunc\u001b[49m\u001b[43m(\u001b[49m\n\u001b[1;32m   1271\u001b[0m \u001b[43m        \u001b[49m\u001b[43mvariables_vfunc\u001b[49m\u001b[43m,\u001b[49m\n\u001b[1;32m   1272\u001b[0m \u001b[43m        \u001b[49m\u001b[38;5;241;43m*\u001b[39;49m\u001b[43margs\u001b[49m\u001b[43m,\u001b[49m\n\u001b[1;32m   1273\u001b[0m \u001b[43m        \u001b[49m\u001b[43msignature\u001b[49m\u001b[38;5;241;43m=\u001b[39;49m\u001b[43msignature\u001b[49m\u001b[43m,\u001b[49m\n\u001b[1;32m   1274\u001b[0m \u001b[43m        \u001b[49m\u001b[43mjoin\u001b[49m\u001b[38;5;241;43m=\u001b[39;49m\u001b[43mjoin\u001b[49m\u001b[43m,\u001b[49m\n\u001b[1;32m   1275\u001b[0m \u001b[43m        \u001b[49m\u001b[43mexclude_dims\u001b[49m\u001b[38;5;241;43m=\u001b[39;49m\u001b[43mexclude_dims\u001b[49m\u001b[43m,\u001b[49m\n\u001b[1;32m   1276\u001b[0m \u001b[43m        \u001b[49m\u001b[43mkeep_attrs\u001b[49m\u001b[38;5;241;43m=\u001b[39;49m\u001b[43mkeep_attrs\u001b[49m\u001b[43m,\u001b[49m\n\u001b[1;32m   1277\u001b[0m \u001b[43m    \u001b[49m\u001b[43m)\u001b[49m\n\u001b[1;32m   1278\u001b[0m \u001b[38;5;66;03m# feed Variables directly through apply_variable_ufunc\u001b[39;00m\n\u001b[1;32m   1279\u001b[0m \u001b[38;5;28;01melif\u001b[39;00m \u001b[38;5;28many\u001b[39m(\u001b[38;5;28misinstance\u001b[39m(a, Variable) \u001b[38;5;28;01mfor\u001b[39;00m a \u001b[38;5;129;01min\u001b[39;00m args):\n",
      "File \u001b[0;32m/g/data/os22/chad_tmp/AusENDVI/env/py310/lib/python3.10/site-packages/xarray/core/computation.py:316\u001b[0m, in \u001b[0;36mapply_dataarray_vfunc\u001b[0;34m(func, signature, join, exclude_dims, keep_attrs, *args)\u001b[0m\n\u001b[1;32m    311\u001b[0m result_coords, result_indexes \u001b[38;5;241m=\u001b[39m build_output_coords_and_indexes(\n\u001b[1;32m    312\u001b[0m     args, signature, exclude_dims, combine_attrs\u001b[38;5;241m=\u001b[39mkeep_attrs\n\u001b[1;32m    313\u001b[0m )\n\u001b[1;32m    315\u001b[0m data_vars \u001b[38;5;241m=\u001b[39m [\u001b[38;5;28mgetattr\u001b[39m(a, \u001b[38;5;124m\"\u001b[39m\u001b[38;5;124mvariable\u001b[39m\u001b[38;5;124m\"\u001b[39m, a) \u001b[38;5;28;01mfor\u001b[39;00m a \u001b[38;5;129;01min\u001b[39;00m args]\n\u001b[0;32m--> 316\u001b[0m result_var \u001b[38;5;241m=\u001b[39m \u001b[43mfunc\u001b[49m\u001b[43m(\u001b[49m\u001b[38;5;241;43m*\u001b[39;49m\u001b[43mdata_vars\u001b[49m\u001b[43m)\u001b[49m\n\u001b[1;32m    318\u001b[0m out: \u001b[38;5;28mtuple\u001b[39m[DataArray, \u001b[38;5;241m.\u001b[39m\u001b[38;5;241m.\u001b[39m\u001b[38;5;241m.\u001b[39m] \u001b[38;5;241m|\u001b[39m DataArray\n\u001b[1;32m    319\u001b[0m \u001b[38;5;28;01mif\u001b[39;00m signature\u001b[38;5;241m.\u001b[39mnum_outputs \u001b[38;5;241m>\u001b[39m \u001b[38;5;241m1\u001b[39m:\n",
      "File \u001b[0;32m/g/data/os22/chad_tmp/AusENDVI/env/py310/lib/python3.10/site-packages/xarray/core/computation.py:860\u001b[0m, in \u001b[0;36mapply_variable_ufunc\u001b[0;34m(func, signature, exclude_dims, dask, output_dtypes, vectorize, keep_attrs, dask_gufunc_kwargs, *args)\u001b[0m\n\u001b[1;32m    858\u001b[0m \u001b[38;5;28;01mfor\u001b[39;00m dim, new_size \u001b[38;5;129;01min\u001b[39;00m var\u001b[38;5;241m.\u001b[39msizes\u001b[38;5;241m.\u001b[39mitems():\n\u001b[1;32m    859\u001b[0m     \u001b[38;5;28;01mif\u001b[39;00m dim \u001b[38;5;129;01min\u001b[39;00m dim_sizes \u001b[38;5;129;01mand\u001b[39;00m new_size \u001b[38;5;241m!=\u001b[39m dim_sizes[dim]:\n\u001b[0;32m--> 860\u001b[0m         \u001b[38;5;28;01mraise\u001b[39;00m \u001b[38;5;167;01mValueError\u001b[39;00m(\n\u001b[1;32m    861\u001b[0m             \u001b[38;5;124mf\u001b[39m\u001b[38;5;124m\"\u001b[39m\u001b[38;5;124msize of dimension \u001b[39m\u001b[38;5;124m'\u001b[39m\u001b[38;5;132;01m{\u001b[39;00mdim\u001b[38;5;132;01m}\u001b[39;00m\u001b[38;5;124m'\u001b[39m\u001b[38;5;124m on inputs was unexpectedly \u001b[39m\u001b[38;5;124m\"\u001b[39m\n\u001b[1;32m    862\u001b[0m             \u001b[38;5;124mf\u001b[39m\u001b[38;5;124m\"\u001b[39m\u001b[38;5;124mchanged by applied function from \u001b[39m\u001b[38;5;132;01m{\u001b[39;00mdim_sizes[dim]\u001b[38;5;132;01m}\u001b[39;00m\u001b[38;5;124m to \u001b[39m\u001b[38;5;132;01m{\u001b[39;00mnew_size\u001b[38;5;132;01m}\u001b[39;00m\u001b[38;5;124m. Only \u001b[39m\u001b[38;5;124m\"\u001b[39m\n\u001b[1;32m    863\u001b[0m             \u001b[38;5;124m\"\u001b[39m\u001b[38;5;124mdimensions specified in ``exclude_dims`` with \u001b[39m\u001b[38;5;124m\"\u001b[39m\n\u001b[1;32m    864\u001b[0m             \u001b[38;5;124m\"\u001b[39m\u001b[38;5;124mxarray.apply_ufunc are allowed to change size. \u001b[39m\u001b[38;5;124m\"\u001b[39m\n\u001b[1;32m    865\u001b[0m             \u001b[38;5;124m\"\u001b[39m\u001b[38;5;124mThe data returned was:\u001b[39m\u001b[38;5;130;01m\\n\u001b[39;00m\u001b[38;5;130;01m\\n\u001b[39;00m\u001b[38;5;124m\"\u001b[39m\n\u001b[1;32m    866\u001b[0m             \u001b[38;5;124mf\u001b[39m\u001b[38;5;124m\"\u001b[39m\u001b[38;5;132;01m{\u001b[39;00mshort_array_repr(data)\u001b[38;5;132;01m}\u001b[39;00m\u001b[38;5;124m\"\u001b[39m\n\u001b[1;32m    867\u001b[0m         )\n\u001b[1;32m    869\u001b[0m var\u001b[38;5;241m.\u001b[39mattrs \u001b[38;5;241m=\u001b[39m attrs\n\u001b[1;32m    870\u001b[0m output\u001b[38;5;241m.\u001b[39mappend(var)\n",
      "\u001b[0;31mValueError\u001b[0m: size of dimension 'time' on inputs was unexpectedly changed by applied function from 492 to 1. Only dimensions specified in ``exclude_dims`` with xarray.apply_ufunc are allowed to change size. The data returned was:\n\narray([], shape=(1, 114, 0), dtype=float32)"
     ]
    }
   ],
   "source": [
    "ndvi = ndvi.where(ag)\n",
    "rain = rain.where(rain)\n",
    "\n",
    "ndvi= ndvi.where(non_trees_mask)\n",
    "rain= rain.where(non_trees_mask)"
   ]
  },
  {
   "cell_type": "code",
   "execution_count": null,
   "id": "be545dcc-81ba-46c5-937e-029e43e725f9",
   "metadata": {},
   "outputs": [],
   "source": [
    "# rain_corr = xr.corr(rain, ndvi, dim='time')"
   ]
  },
  {
   "cell_type": "markdown",
   "id": "bae5dcde-0cd7-406a-8e46-4a6951d545ca",
   "metadata": {},
   "source": [
    "## Map precip to ndvi\n",
    "\n",
    "Rolling 5-year means of annual NDVI and rainfall"
   ]
  },
  {
   "cell_type": "code",
   "execution_count": null,
   "id": "fed0565a-e264-4c9d-ab57-6cf35f5f182a",
   "metadata": {
    "tags": []
   },
   "outputs": [],
   "source": [
    "ndvi_annual = ndvi.groupby('time.year').max('time')\n",
    "ndvi_annual = ndvi_annual.where(ndvi_annual>0) \n",
    "rain_annual = rain.groupby('time.year').sum('time')\n",
    "rain_annual = rain_annual.where(ndvi_annual>0)\n",
    "\n",
    "ndvi_annual = ndvi_annual.rolling(year=5, min_periods=5).mean()\n",
    "rain_annual = rain_annual.rolling(year=5, min_periods=5).mean()"
   ]
  },
  {
   "cell_type": "markdown",
   "id": "64841fa6-3848-46c9-90d4-414eecf08a27",
   "metadata": {},
   "source": [
    "### Extract 95th percentile of rainfall bins "
   ]
  },
  {
   "cell_type": "code",
   "execution_count": null,
   "id": "e9470ac6-3434-420b-acff-d69a05567ac5",
   "metadata": {},
   "outputs": [],
   "source": [
    "bins=np.arange(120,1500, step=20)\n",
    "years = range(1986,2023)\n",
    "Fx_edge = {}\n",
    "\n",
    "for year in years:\n",
    "    x = ndvi_annual.sel(year=year)\n",
    "    y = rain_annual.sel(year=year)\n",
    "    \n",
    "    q_for_bin = []\n",
    "    for b in bins:\n",
    "        mask = xr.where((y<=b) & (y>b-20), 1, 0)\n",
    "        q = x.where(mask).quantile([0.95])\n",
    "        q_for_bin.append(q.data[0])\n",
    "\n",
    "    Fx_edge[str(year)]=q_for_bin\n",
    "\n",
    "df = pd.DataFrame(Fx_edge, index=bins)    "
   ]
  },
  {
   "cell_type": "code",
   "execution_count": null,
   "id": "b9f66ed8-5313-491b-a111-38be64c1dae6",
   "metadata": {},
   "outputs": [],
   "source": [
    "# plot_df = rain_annual.sel(year=2015).drop('spatial_ref').to_dataframe().drop('year', axis=1).reset_index(drop=True)\n",
    "# plot_df['ndvi'] = ndvi_annual.sel(year=2015).drop('spatial_ref').to_dataframe().drop('year', axis=1).reset_index(drop=True)\n",
    "# plot_df=plot_df.dropna()\n",
    "# plot_df = plot_df.sample(50000)"
   ]
  },
  {
   "cell_type": "markdown",
   "id": "14b5d470-3439-4ee9-925a-0395ba2737af",
   "metadata": {},
   "source": [
    "### Plot a given year"
   ]
  },
  {
   "cell_type": "code",
   "execution_count": null,
   "id": "a2424e11-130c-4e92-8dc5-bc6b93d52122",
   "metadata": {},
   "outputs": [],
   "source": [
    "plt.style.use('ggplot')\n",
    "year = 2015\n",
    "\n",
    "plot_df = rain_annual.sel(year=year).drop('spatial_ref').to_dataframe().drop('year', axis=1).reset_index(drop=True)\n",
    "plot_df['ndvi'] = ndvi_annual.sel(year=year).drop('spatial_ref').to_dataframe().drop('year', axis=1).reset_index(drop=True)\n",
    "plot_df=plot_df.dropna()\n",
    "plot_df = plot_df.sample(25000)\n",
    "\n",
    "fig,ax=plt.subplots(1,1, figsize=(5,4))\n",
    "\n",
    "obs, pred = plot_df['rain'].values, plot_df['ndvi'].values\n",
    "xy = np.vstack([obs,pred])\n",
    "z = gaussian_kde(xy)(xy)\n",
    "\n",
    "sb.scatterplot(data=plot_df, x='rain',y='ndvi', c=z, s=20, lw=1, alpha=0.1, ax=ax, cmap='gist_earth_r')\n",
    "df[str(year)].plot(cmap='inferno', ax=ax, legend=False);\n",
    "ax.set_xlim(140,1250);\n"
   ]
  },
  {
   "cell_type": "markdown",
   "id": "c3245283-a240-4a45-a862-bf609a15b280",
   "metadata": {},
   "source": [
    "## Break point and slope analysis"
   ]
  },
  {
   "cell_type": "code",
   "execution_count": null,
   "id": "58a1196c-685c-4531-bc74-00d0304460ea",
   "metadata": {},
   "outputs": [],
   "source": [
    "import jenkspy"
   ]
  },
  {
   "cell_type": "code",
   "execution_count": null,
   "id": "e231318c-b6d2-49e9-83be-4632d75cce32",
   "metadata": {},
   "outputs": [],
   "source": [
    "brk_pts_rain = []\n",
    "brk_pts_ndvi = []\n",
    "slopes = []\n",
    "\n",
    "for year in years:\n",
    "\n",
    "    y = df[str(year)].values\n",
    "    idx=np.isfinite(y)\n",
    "    y = y[idx]\n",
    "    \n",
    "    # break-point detection\n",
    "    bp = jenkspy.jenks_breaks(y, n_classes=3)\n",
    "    bp = bp[2]\n",
    "    brk_pts_ndvi.append(bp)\n",
    "\n",
    "    # #find rainfall value at BP\n",
    "    bp_idx = df[str(year)][df[str(year)]==bp].index[0]\n",
    "    brk_pts_rain.append(bp_idx)\n",
    "\n",
    "    # Slope between 0 and break-point\n",
    "    m, b = np.polyfit(x=df[idx].index[df[idx].index<=bp_idx].values,\n",
    "                      y=y[df[idx].index<=bp_idx],\n",
    "                      deg=1)\n",
    "    \n",
    "    slopes.append(m)"
   ]
  },
  {
   "cell_type": "code",
   "execution_count": null,
   "id": "e8cc746d-7cac-483c-b48e-dfe30462656c",
   "metadata": {},
   "outputs": [],
   "source": [
    "brk_pts = pd.DataFrame(data=brk_pts_ndvi, index=brk_pts_rain).reset_index()\n",
    "brk_pts = brk_pts.rename({0:'NDVI', 'index':'breakpoint'},axis=1)\n",
    "brk_pts['year'] = years\n",
    "\n",
    "slopes = pd.DataFrame(data=slopes, index=years).reset_index()\n",
    "slopes = slopes.rename({0:'slopes', 'index':'year'},axis=1)"
   ]
  },
  {
   "cell_type": "markdown",
   "id": "af36f1dd-16ee-470a-a5a5-dc488f7dd642",
   "metadata": {},
   "source": [
    "### Plot all years"
   ]
  },
  {
   "cell_type": "code",
   "execution_count": null,
   "id": "2d2a1285-61fa-4b5e-b74f-37bac8338b77",
   "metadata": {},
   "outputs": [],
   "source": [
    "fig,ax=plt.subplots(1,1, figsize=(7,5))\n",
    "df.plot(ax=ax, legend=False, cmap='Greys', zorder=-1, alpha=0.5);\n",
    "brk_pts.plot(x='breakpoint', y='NDVI', ax=ax, kind='scatter', c='year', alpha=1,\n",
    "             cmap='inferno', zorder=1\n",
    "            )\n",
    "ax.set_ylabel('NDVI');\n",
    "ax.set_xlabel('Rainfall');"
   ]
  },
  {
   "cell_type": "markdown",
   "id": "841bf15c-7a3f-4c80-a4f9-2e61c8b4c150",
   "metadata": {},
   "source": [
    "## Plot trends in slope and breakpoint"
   ]
  },
  {
   "cell_type": "code",
   "execution_count": null,
   "id": "42346ffc-676a-4103-8d1f-1c011e4aa1dd",
   "metadata": {},
   "outputs": [],
   "source": [
    "fig,ax=plt.subplots(1,2, figsize=(13,4))\n",
    "\n",
    "sb.lineplot(data=slopes, x=\"year\", y=\"slopes\", ax=ax[0], color='r')\n",
    "sb.regplot(x=\"year\", y=\"slopes\", data=slopes, ax=ax[0],color='r');\n",
    "\n",
    "s, i, r, p, se = stats.linregress(slopes['year'].values,slopes['slopes'].values)\n",
    "ax[0].text(.05, .90, 'Slope = {:.7f}'.format(s),\n",
    "        transform=ax[0].transAxes, fontsize=10)\n",
    "ax[0].text(.05, .825, 'P-value = {:.7f}'.format(p),\n",
    "        transform=ax[0].transAxes, fontsize=10)\n",
    "\n",
    "sb.lineplot(data=brk_pts, x=\"year\", y=\"breakpoint\", ax=ax[1], color='b')\n",
    "sb.regplot(data=brk_pts, x=\"year\", y=\"breakpoint\", ax=ax[1], color='b');\n",
    "\n",
    "s, i, r, p, se = stats.linregress(brk_pts['year'].values,brk_pts['breakpoint'].values)\n",
    "ax[1].text(.05, .175, 'Slope = {:.4g}'.format(s),\n",
    "        transform=ax[1].transAxes, fontsize=10)\n",
    "ax[1].text(.05, .10, 'P-value = {:.5f}'.format(p),\n",
    "        transform=ax[1].transAxes, fontsize=10)\n",
    "\n",
    "# ax[0].plot(years, [i*1000 for i in slopes])\n",
    "ax[0].set_title('Fx Slope');\n",
    "ax[0].set_ylabel('Slope of max. NDVI (mm-1)')\n",
    "\n",
    "# ax[1].plot(years, brk_pts)\n",
    "ax[1].set_title('Precip. breakpoint')\n",
    "ax[1].set_ylabel('Breakpoint (mm/yr)');"
   ]
  },
  {
   "cell_type": "code",
   "execution_count": null,
   "id": "0fee2aa9-b20a-47c7-967c-8dc7b2952575",
   "metadata": {},
   "outputs": [],
   "source": []
  }
 ],
 "metadata": {
  "kernelspec": {
   "display_name": "Python 3 (ipykernel)",
   "language": "python",
   "name": "python3"
  },
  "language_info": {
   "codemirror_mode": {
    "name": "ipython",
    "version": 3
   },
   "file_extension": ".py",
   "mimetype": "text/x-python",
   "name": "python",
   "nbconvert_exporter": "python",
   "pygments_lexer": "ipython3",
   "version": "3.10.0"
  }
 },
 "nbformat": 4,
 "nbformat_minor": 5
}
