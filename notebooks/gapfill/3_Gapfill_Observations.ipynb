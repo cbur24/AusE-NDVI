{
 "cells": [
  {
   "cell_type": "markdown",
   "id": "62dedf8e-c714-4688-809d-cc17e3adbec5",
   "metadata": {},
   "source": [
    "# Gapfilling Observations with Synthetic data"
   ]
  },
  {
   "cell_type": "markdown",
   "id": "149aeee1-6bb0-4dfe-9b73-afc75e82a38a",
   "metadata": {},
   "source": [
    "## Create no-gaps datasets"
   ]
  },
  {
   "cell_type": "code",
   "execution_count": null,
   "id": "48051475-5842-4531-8425-5a6085c4eafe",
   "metadata": {},
   "outputs": [],
   "source": [
    "import folium\n",
    "import numpy as np\n",
    "import xarray as xr\n",
    "import seaborn as sb\n",
    "import matplotlib as mpl\n",
    "import matplotlib.pyplot as plt\n",
    "from matplotlib.cm import ScalarMappable\n",
    "import odc.geo.xr\n",
    "from odc.geo.xr import assign_crs\n",
    "import sys\n",
    "sys.path.append('/g/data/os22/chad_tmp/AusEFlux/src/')\n",
    "from _utils import round_coords\n",
    "\n",
    "%matplotlib inline"
   ]
  },
  {
   "cell_type": "code",
   "execution_count": null,
   "id": "9daa2d37-79f7-442a-988a-3c38a68a4cd2",
   "metadata": {},
   "outputs": [],
   "source": [
    "model_var='NDVI'\n",
    "feat = 'CLIM'\n",
    "base = '/g/data/os22/chad_tmp/AusENDVI/data/'"
   ]
  },
  {
   "cell_type": "code",
   "execution_count": null,
   "id": "6076d9ac-3cda-4d21-ad69-081492078302",
   "metadata": {},
   "outputs": [],
   "source": [
    "desert = xr.open_dataset(f'{base}synthetic/{model_var}/{model_var}_{feat}_desert_synthetic_5km_monthly_1982_2022.nc')\n",
    "nondesert = xr.open_dataset(f'{base}synthetic/{model_var}/{model_var}_{feat}_nondesert_synthetic_5km_monthly_1982_2022.nc')\n",
    "yy = xr.where(np.isnan(desert), nondesert, desert)\n",
    "\n",
    "obs = xr.open_dataset(f'{base}{model_var}_harmonization/LGBM/{model_var}_{feat}_LGBM_5km_monthly_1982_2022_wGaps.nc')\n",
    "\n",
    "if model_var=='LST':\n",
    "    yy = yy-273.15\n",
    "    obs = obs-273.15\n",
    "\n",
    "# obs = obs.sel(time=yy.time)"
   ]
  },
  {
   "cell_type": "code",
   "execution_count": null,
   "id": "dd5ae408-bd97-4b8a-b6c6-468affc84608",
   "metadata": {},
   "outputs": [],
   "source": [
    "# yy['LST'].sel(time='1994').plot.imshow(robust=True, cmap='BrBG', col='time', col_wrap=6);"
   ]
  },
  {
   "cell_type": "code",
   "execution_count": null,
   "id": "29e299e3-81ce-4e01-946e-3880ceca4ee2",
   "metadata": {},
   "outputs": [],
   "source": [
    "# obs['LST'].sel(time='1994').plot.imshow(robust=True, cmap='BrBG', col='time', col_wrap=6);"
   ]
  },
  {
   "cell_type": "markdown",
   "id": "982a62da-b938-47a6-b9dc-ce295f469bda",
   "metadata": {},
   "source": [
    "### Gapfill small gaps with linear interpolation"
   ]
  },
  {
   "cell_type": "code",
   "execution_count": null,
   "id": "c76c9b56-2e0e-4b40-868c-db1083b4f4f2",
   "metadata": {},
   "outputs": [],
   "source": [
    "# seperate into climatologies and anomalies\n",
    "obs_monthly = obs.groupby('time.month').mean()\n",
    "obs_anom = obs.groupby('time.month') - obs_monthly  \n",
    "\n",
    "# fill linearly by one-step\n",
    "obs_anom = obs_anom.interpolate_na(dim='time', method='linear', limit=1)\n",
    "\n",
    "#recombine anomalies and climatology\n",
    "obs_fill = obs_anom.groupby('time.month') + obs_monthly\n",
    "obs_fill = assign_crs(obs_fill.drop('month'), crs='epsg:4326')"
   ]
  },
  {
   "cell_type": "markdown",
   "id": "3efbd720-71d9-4e4f-8a86-20e9aa72899a",
   "metadata": {},
   "source": [
    "### Fill remaining data-gaps with synthetic data"
   ]
  },
  {
   "cell_type": "code",
   "execution_count": null,
   "id": "0f9a0166-a379-43e3-b33d-bce1349ac992",
   "metadata": {},
   "outputs": [],
   "source": [
    "syn_fill = obs_fill.fillna(yy[model_var])"
   ]
  },
  {
   "cell_type": "markdown",
   "id": "48c754ea-62eb-4c6c-a383-99dc8e5acb48",
   "metadata": {},
   "source": [
    "### Remove values less than zero"
   ]
  },
  {
   "cell_type": "code",
   "execution_count": null,
   "id": "7c614a17-7f60-4982-948a-384491f45fe3",
   "metadata": {},
   "outputs": [],
   "source": [
    "syn_fill = syn_fill.where(syn_fill['NDVI']>=0)\n",
    "\n",
    "yy = yy.where(yy>=0)"
   ]
  },
  {
   "cell_type": "markdown",
   "id": "98e287db-f5c0-4b46-a036-03955a987d88",
   "metadata": {},
   "source": [
    "## Save to disk"
   ]
  },
  {
   "cell_type": "code",
   "execution_count": null,
   "id": "53221042-767c-42ce-be4b-895e8f57b597",
   "metadata": {},
   "outputs": [],
   "source": [
    "#export here for the carbon flux modelling\n",
    "syn_fill.to_netcdf(base+'5km/'+model_var+'_5km_monthly_1982_2022.nc')"
   ]
  },
  {
   "cell_type": "code",
   "execution_count": null,
   "id": "c75f47da-52a7-47dd-85e4-cfdaa27660f6",
   "metadata": {},
   "outputs": [],
   "source": [
    "#export here for publication\n",
    "syn_fill.to_netcdf(f'{base}{model_var}_harmonization/LGBM/{model_var}_{feat}_LGBM_5km_monthly_1982_2022_noGaps.nc')\n",
    "\n",
    "yy.to_netcdf(f'{base}/synthetic/NDVI/NDVI_CLIM_synthetic_5km_monthly_1982_2022.nc')"
   ]
  },
  {
   "cell_type": "markdown",
   "id": "288b511a-6464-450f-a89a-2e3f39de4e61",
   "metadata": {},
   "source": [
    "## Before and after gapfill"
   ]
  },
  {
   "cell_type": "code",
   "execution_count": null,
   "id": "29d55f1e-2307-4a1a-883c-93c9918d1aa0",
   "metadata": {},
   "outputs": [],
   "source": [
    "with plt.style.context('ggplot'):\n",
    "    fig,ax = plt.subplots(1,1, figsize=(12,4), sharey=True)\n",
    "    obs['NDVI'].mean(['latitude', 'longitude']).rolling(time=3).mean().plot(ax=ax, label='MCD43A4 & AusE-clim', c='red')\n",
    "    syn_fill['NDVI'].mean(['latitude', 'longitude']).rolling(time=3).mean().plot(ax=ax, label='MCD43A4 & AusE-clim gapfilled', c='black')\n",
    "    ax.set_ylabel('NDVI')\n",
    "    ax.set_xlabel(None)\n",
    "    ax.legend()\n",
    "    plt.title(None);\n",
    "    fig.savefig('/g/data/os22/chad_tmp/AusENDVI/results/figs/gapfill_before_after.png',\n",
    "            bbox_inches='tight', dpi=300)"
   ]
  },
  {
   "cell_type": "markdown",
   "id": "c0050cb8-5569-4061-b0d2-3ec8a9770b1e",
   "metadata": {},
   "source": [
    "## Animations"
   ]
  },
  {
   "cell_type": "code",
   "execution_count": null,
   "id": "0ec7ff75-84e9-4f4d-afa4-c3385e19c898",
   "metadata": {},
   "outputs": [],
   "source": [
    "import xarray as xr\n",
    "import sys\n",
    "sys.path.append('/g/data/os22/chad_tmp/dea-notebooks/Tools/')\n",
    "from dea_tools.plotting import xr_animation\n",
    "from IPython.display import Image\n",
    "import matplotlib.pyplot as plt"
   ]
  },
  {
   "cell_type": "code",
   "execution_count": null,
   "id": "13739de8-0f47-46bb-9dde-1caeafdb2853",
   "metadata": {},
   "outputs": [],
   "source": [
    "model_var = 'AusENDVI_synthetic'\n",
    "ds = xr.open_dataset('/g/data/os22/chad_tmp/AusENDVI/results/publication/AusENDVI_synthetic_1982_2022_0.2.0.nc')"
   ]
  },
  {
   "cell_type": "code",
   "execution_count": null,
   "id": "323be52d-9133-4f22-a494-b86d16a8ff70",
   "metadata": {},
   "outputs": [],
   "source": [
    "# # Produce time series animation\n",
    "# path = '/g/data/os22/chad_tmp/AusENDVI/results/gifs/'+model_var+'_observed.gif'\n",
    "# path = '/g/data/os22/chad_tmp/AusENDVI/results/gifs/'+model_var+'_synthetic_LGBM.gif'\n",
    "path = '/g/data/os22/chad_tmp/AusENDVI/results/gifs/'+model_var+'_gapfilled_LGBM.gif'\n",
    "\n",
    "\n",
    "cmap='gist_earth_r'\n",
    "vmin=0.1\n",
    "vmax=0.8\n",
    "\n",
    "# if model_var=='LST':\n",
    "#     cmap='inferno'\n",
    "#     vmin=5\n",
    "#     vmax=45\n",
    "\n",
    "xr_animation(\n",
    "             ds=ds,#obs.rolling(time=2, min_periods=1).mean(), \n",
    "             # ds=yy,#.rolling(time=2, min_periods=1).mean(), \n",
    "             # syn_fill.rolling(time=2, min_periods=1).mean(), \n",
    "             output_path=path,\n",
    "             bands=[model_var],  \n",
    "             show_date='%B-%Y',\n",
    "             show_text=model_var,\n",
    "             interval=150,\n",
    "             imshow_kwargs={'cmap': cmap, 'vmin': vmin, 'vmax': vmax},\n",
    "             colorbar_kwargs={'colors': 'black'},\n",
    "             # width_pixels=300,\n",
    "             annotation_kwargs= {'color':'black', 'animated': True}\n",
    "    ) \n",
    "\n",
    "# Plot animated gif\n",
    "plt.close()\n",
    "Image(filename=path)"
   ]
  },
  {
   "cell_type": "code",
   "execution_count": null,
   "id": "f964b4a6-7fa7-4288-a9a9-a90880ba0eff",
   "metadata": {},
   "outputs": [],
   "source": []
  }
 ],
 "metadata": {
  "kernelspec": {
   "display_name": "Python 3 (ipykernel)",
   "language": "python",
   "name": "python3"
  },
  "language_info": {
   "codemirror_mode": {
    "name": "ipython",
    "version": 3
   },
   "file_extension": ".py",
   "mimetype": "text/x-python",
   "name": "python",
   "nbconvert_exporter": "python",
   "pygments_lexer": "ipython3",
   "version": "3.10.0"
  }
 },
 "nbformat": 4,
 "nbformat_minor": 5
}
